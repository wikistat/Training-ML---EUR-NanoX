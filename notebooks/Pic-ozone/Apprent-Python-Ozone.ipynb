{
 "cells": [
  {
   "cell_type": "markdown",
   "metadata": {},
   "source": [
    "<center>\n",
    "<a href=\"http://www.insa-toulouse.fr/\" ><img src=\"http://www.math.univ-toulouse.fr/~besse/Wikistat/Images/logo-insa.jpg\" style=\"float:left; max-width: 120px; display: inline\" alt=\"INSA\"/></a> \n",
    "\n",
    "<a href=\"http://wikistat.fr/\" ><img src=\"http://www.math.univ-toulouse.fr/~besse/Wikistat/Images/wikistat.jpg\" style=\"float:right; max-width: 250px; display: inline\"  alt=\"Wikistat\"/></a>\n",
    "\n",
    "</center>"
   ]
  },
  {
   "cell_type": "markdown",
   "metadata": {},
   "source": [
    "# [Scénarios d'Apprentissage Statistique](https://github.com/wikistat/Apprentissage)"
   ]
  },
  {
   "cell_type": "markdown",
   "metadata": {},
   "source": [
    "# Adaptation Statistique d'un Modèle de Prévision du Pic d'Ozone en <a href=\"https://www.python.org/\"><img src=\"https://upload.wikimedia.org/wikipedia/commons/thumb/f/f8/Python_logo_and_wordmark.svg/390px-Python_logo_and_wordmark.svg.png\" style=\"max-width: 120px; display: inline\" alt=\"Python\"/></a> avec <a href=\"http://scikit-learn.org/stable/#\"><img src=\"http://scikit-learn.org/stable/_static/scikit-learn-logo-small.png\" style=\"max-width: 100px; display: inline\" alt=\"Scikit-learn\"/></a>"
   ]
  },
  {
   "cell_type": "markdown",
   "metadata": {},
   "source": [
    "**Résumé**: Exploration puis modélisation de données climatiques en utilisant Python et la librairie [Scikit-learn](http://scikit-learn.org/stable/#). L'objectif est de prévoir pour le lendemain un possible dépassement d'un seuil de concentration en ozone à partir d'une prévision déterministe sur un maillage grossier et de variables climatiques locales. Estimation par différentes méthodes: régression [logistique](http://wikistat.fr/pdf/st-m-app-rlogit.pdf), [k plus proches voisins](http://wikistat.fr/pdf/st-m-app-add.pdf), [arbre de décision](http://wikistat.fr/pdf/st-m-app-cart.pdf), [agrégation de modèle](http://wikistat.fr/pdf/st-m-app-agreg.pdf), [SVM](http://wikistat.fr/pdf/st-m-app-svm.pdf). Comparaison des [erreurs de prévision](http://wikistat.fr/pdf/st-m-app-risque-estim.pdf) sur un échantillon test puis des courbes ROC. Itération sur plusieurs échantillons tests pour analyser la distribution de l'erreur de prévision. Ce calepin vient compléter l'[étude faite avec R](http://www.math.univ-toulouse.fr/~besse/Wikistat/Notebooks/Notebook-R-Ozone.html) pour en comparer les deux approches."
   ]
  },
  {
   "cell_type": "markdown",
   "metadata": {},
   "source": [
    "**Avertissement** \n",
    "\n",
    "* Ce calepin complète [celui en R](https://github.com/wikistat/Apprentissage/blob/master/Pic-ozone/Apprent-R-Ozone.ipynb) afin de comparer les performances respectives des deux environnements: complétude des résultats et efficacité du code. Les explications sont plus sommaires dans ce tutoriel qui est en principe exécuté *après* ou parallèlement à celui réalisé en R.  \n",
    "* Comme pour R il est *découpé en 5 séances* de travaux dirigés *syncronisées* avec le cours d'apprentissage automatique. \n",
    "* Réfléchir aux réponses aux questions marquées **Q** issues du sujet d'examen.\n",
    "* Toutes les options n'ont pas été testées et certaines sont posées en **exercice**."
   ]
  },
  {
   "cell_type": "markdown",
   "metadata": {},
   "source": [
    "## Introduction"
   ]
  },
  {
   "cell_type": "markdown",
   "metadata": {},
   "source": [
    "L'objectif, sur ces données, est d'améliorer la prévision déterministe (MOCAGE), calculée par les services de MétéoFrance,  de la concentration d'ozone dans certaines stations de prélèvement.  Il s'agit d'un problème dit d'*adaptation statistique* ou post-traitement d'une prévision locale de modèles à trop grande échelle en s'aidant d'autre variables également gérées par MétéoFrance, mais à plus petite échelle (température, force du vent...). \n",
    "\n",
    "La question posée reste: quelle est la meilleure stratégie pour prévoir l'occurrence d'un pic de pollution. \n",
    "\n",
    "Comme avec R différentes méthodes sont testées : régression logistique, k plus proches voisins, arbre de décision, random forest, SVM. De façon générale on suppose que l'utilisateur dispose d'une installation python à jour. Le calepin a été testé avec la version 3.7.\n",
    "\n",
    "**Question subsidiaire** quand préférer R ou Python ? Python conduit a des résultats (conclusions) identiques à ceux de R, moins complets pour leur interprétation, mais plus rapidement. Il s'agit des principales différences entre R pour \"statisticien\" et python pour \"informaticien\", on perd en interprétabilité mais on gagne en vitesse d'exécution. "
   ]
  },
  {
   "cell_type": "markdown",
   "metadata": {},
   "source": [
    "# <FONT COLOR=\"Red\">Épisode 1</font>"
   ]
  },
  {
   "cell_type": "markdown",
   "metadata": {},
   "source": [
    "## Prise en compte des données"
   ]
  },
  {
   "cell_type": "markdown",
   "metadata": {},
   "source": [
    "Les données ont été extraites et mises en forme par le service concerné de Météo France. Elles sont décrites par les variables suivantes:\n",
    "\n",
    "\n",
    "* **JOUR** Le type de jour ; férié (1) ou pas (0) ;\n",
    "* **O3obs** La concentration d'ozone effectivement observée le lendemain à 17h locales correspondant souvent au maximum de pollution observée ;\n",
    "* **MOCAGE** Prévision de cette pollution obtenue par un modèle déterministe de mécanique des fluides (équation de Navier et Stockes);\n",
    "* **TEMPE** Température prévue par MétéoFrance pour le lendemain 17h ;\n",
    "* **RMH2O** Rapport d'humidité ;\n",
    "* **NO2** Concentration en dioxyde d'azote ;\n",
    "* **NO** Concentration en monoxyde d'azote ;\n",
    "* **STATION** Lieu de l'observation : Aix-en-Provence, Rambouillet, Munchhausen, Cadarache et Plan de Cuques ;\n",
    "* **VentMOD** Force du vent ;\n",
    "* **VentANG** Orientation du vent. \n",
    "\n",
    "Ce sont des données \"propres\", sans trous, bien codées et de petites tailles. Elles présentent avant tout un caractère pédagogique.\n",
    "\n",
    "Il est choisi ici de lire les données avec la librairie `pandas` pour bénéficier de la classe DataFrame. Ce n'est pas nécessaire pour l'objectif de prévision car les variables qualitatives ainsi construites ne peuvent être utilisées pour l'interprétation des modèles obtenus dans `scikit-learn` qui ne reconnaît pas la classe DataFrame."
   ]
  },
  {
   "cell_type": "code",
   "execution_count": null,
   "metadata": {
    "ExecuteTime": {
     "end_time": "2019-07-03T14:24:03.926115Z",
     "start_time": "2019-07-03T14:24:03.898968Z"
    }
   },
   "outputs": [],
   "source": [
    "import pandas as pd\n",
    "import numpy as np\n",
    "# Lecture des données\n",
    "## Charger les données ou les lire directement en précisant le chemin\n",
    "path=\"\"\n",
    "# path=\"http://www.math.univ-toulouse.fr/~besse/Wikistat/data/\"\n",
    "ozone=pd.read_csv(path+\"depSeuil.dat\",sep=\",\",header=0)\n",
    "# Vérification du contenu\n",
    "ozone.head()"
   ]
  },
  {
   "cell_type": "markdown",
   "metadata": {},
   "source": [
    "Ce qui suit permet d'affecter le bon type aux variables."
   ]
  },
  {
   "cell_type": "code",
   "execution_count": null,
   "metadata": {
    "ExecuteTime": {
     "end_time": "2019-07-03T14:24:06.558447Z",
     "start_time": "2019-07-03T14:24:06.544530Z"
    }
   },
   "outputs": [],
   "source": [
    "ozone[\"STATION\"]=pd.Categorical(ozone[\"STATION\"],ordered=False)\n",
    "ozone[\"JOUR\"]=pd.Categorical(ozone[\"JOUR\"],ordered=False)\n",
    "ozone[\"O3obs\"]=pd.DataFrame(ozone[\"O3obs\"], dtype=float)\n",
    "ozone.dtypes"
   ]
  },
  {
   "cell_type": "code",
   "execution_count": null,
   "metadata": {
    "ExecuteTime": {
     "end_time": "2019-07-03T14:24:07.557778Z",
     "start_time": "2019-07-03T14:24:07.513332Z"
    }
   },
   "outputs": [],
   "source": [
    "ozone.describe()"
   ]
  },
  {
   "cell_type": "markdown",
   "metadata": {},
   "source": [
    "## Exploration"
   ]
  },
  {
   "cell_type": "markdown",
   "metadata": {},
   "source": [
    "Même si les données ne présentent pas de défauts particuliers, une étude exploratoire préliminaire est indispensable afin de s'assurer le leur bonne cohérence, proposer d'éventuelles transformations et analyser les structures de corrélations ou plus généralement de liaisons entre les variables, de groupes des individus ou observations."
   ]
  },
  {
   "cell_type": "markdown",
   "metadata": {},
   "source": [
    "### Unidimensionnelle"
   ]
  },
  {
   "cell_type": "code",
   "execution_count": null,
   "metadata": {
    "ExecuteTime": {
     "end_time": "2019-07-03T14:24:30.738911Z",
     "start_time": "2019-07-03T14:24:27.879049Z"
    },
    "collapsed": true
   },
   "outputs": [],
   "source": [
    "%matplotlib inline"
   ]
  },
  {
   "cell_type": "code",
   "execution_count": null,
   "metadata": {
    "ExecuteTime": {
     "end_time": "2019-07-03T14:24:32.582966Z",
     "start_time": "2019-07-03T14:24:32.404436Z"
    }
   },
   "outputs": [],
   "source": [
    "import matplotlib.pyplot as plt\n",
    "ozone[\"O3obs\"].hist()\n",
    "plt.show()"
   ]
  },
  {
   "cell_type": "code",
   "execution_count": null,
   "metadata": {
    "ExecuteTime": {
     "end_time": "2019-07-03T14:24:34.673699Z",
     "start_time": "2019-07-03T14:24:34.518380Z"
    }
   },
   "outputs": [],
   "source": [
    "ozone[\"MOCAGE\"].hist()\n",
    "plt.show()"
   ]
  },
  {
   "cell_type": "markdown",
   "metadata": {},
   "source": [
    "**Exercice** Traiter ainsi toutes les variables. Ceci suggère des transformations pour une meilleure utilisation des modèles linéaires. "
   ]
  },
  {
   "cell_type": "code",
   "execution_count": null,
   "metadata": {
    "ExecuteTime": {
     "end_time": "2019-07-03T14:24:36.204736Z",
     "start_time": "2019-07-03T14:24:36.191604Z"
    },
    "collapsed": true
   },
   "outputs": [],
   "source": [
    "from math import sqrt, log\n",
    "ozone[\"SRMH2O\"]=ozone[\"RMH2O\"].map(lambda x: sqrt(x))\n",
    "ozone[\"LNO2\"]=ozone[\"NO2\"].map(lambda x: log(x))\n",
    "ozone[\"LNO\"]=ozone[\"NO\"].map(lambda x: log(x))\n",
    "del ozone[\"RMH2O\"]\n",
    "del ozone[\"NO2\"]\n",
    "del ozone[\"NO\"]"
   ]
  },
  {
   "cell_type": "markdown",
   "metadata": {},
   "source": [
    "**Exercice** Vérifier l'opportunité de ces transformations (histogrammes des nouvelles variables)."
   ]
  },
  {
   "cell_type": "markdown",
   "metadata": {},
   "source": [
    "Retirer les variables initiales et construire ci-dessous la variable \"dépassement de seuil\" pour obtenir le fichier qui sera effectivement utilisé."
   ]
  },
  {
   "cell_type": "code",
   "execution_count": null,
   "metadata": {
    "ExecuteTime": {
     "end_time": "2019-07-03T14:24:41.987303Z",
     "start_time": "2019-07-03T14:24:41.968111Z"
    }
   },
   "outputs": [],
   "source": [
    "ozone[\"DepSeuil\"]=ozone[\"O3obs\"].map(lambda x: x > 150)\n",
    "ozone.head()"
   ]
  },
  {
   "cell_type": "markdown",
   "metadata": {},
   "source": [
    "### Exploration multidimensionnelle"
   ]
  },
  {
   "cell_type": "code",
   "execution_count": null,
   "metadata": {
    "ExecuteTime": {
     "end_time": "2019-07-03T14:24:47.971984Z",
     "start_time": "2019-07-03T14:24:44.156664Z"
    }
   },
   "outputs": [],
   "source": [
    "# scatter plot matrix des variables quantitatives\n",
    "from pandas.plotting import scatter_matrix\n",
    "scatter_matrix(ozone[[\"O3obs\",\"MOCAGE\",\"TEMPE\",\"VentMOD\",\"VentANG\",\"SRMH2O\",\"LNO2\",\"LNO\"]], alpha=0.2, figsize=(15, 15), diagonal='kde')\n",
    "plt.show()"
   ]
  },
  {
   "cell_type": "markdown",
   "metadata": {},
   "source": [
    "**Q** Commenter les relations entre les variables prises 2 à 2."
   ]
  },
  {
   "cell_type": "markdown",
   "metadata": {},
   "source": [
    "### [Analyse en composantes principales](http://wikistat.fr/pdf/st-m-explo-acp.pdf)"
   ]
  },
  {
   "cell_type": "code",
   "execution_count": null,
   "metadata": {
    "ExecuteTime": {
     "end_time": "2019-07-03T14:24:51.124654Z",
     "start_time": "2019-07-03T14:24:50.810023Z"
    },
    "collapsed": true
   },
   "outputs": [],
   "source": [
    "from sklearn.decomposition import PCA\n",
    "from sklearn.preprocessing import scale\n",
    "# réduction des variables\n",
    "X=scale(ozone[[\"O3obs\",\"MOCAGE\",\"TEMPE\",\"VentMOD\",\"VentANG\",\"SRMH2O\",\"LNO2\",\"LNO\"]])"
   ]
  },
  {
   "cell_type": "markdown",
   "metadata": {},
   "source": [
    "Tous les résultats numétriques classiques sont fournis par l'[implémentation](http://scikit-learn.org/stable/modules/decomposition.html) de scikit-learn mais des  efforts sont à produire pour construire les graphiques usuels généralement automatiquement produits par des librairies dédiées comme [FactoMineR](http://factominer.free.fr/) de R.\n",
    "\n",
    "Les commandes suivantes permettent de réaliser une analyse en composantes principales sur les seules variables quantitatives. Par ailleurs la variable à modéliser  (O3obs, concentration observée) n'est pas utilisée."
   ]
  },
  {
   "cell_type": "code",
   "execution_count": null,
   "metadata": {
    "ExecuteTime": {
     "end_time": "2019-07-03T14:25:11.428628Z",
     "start_time": "2019-07-03T14:25:11.234979Z"
    }
   },
   "outputs": [],
   "source": [
    "pca = PCA()\n",
    "## Estimation, calcul des composantes principales\n",
    "C = pca.fit(X).transform(X)\n",
    "## Décroissance de la variance expliquée\n",
    "plt.plot(pca.explained_variance_ratio_)\n",
    "plt.show()"
   ]
  },
  {
   "cell_type": "code",
   "execution_count": null,
   "metadata": {
    "ExecuteTime": {
     "end_time": "2019-07-03T14:25:12.417866Z",
     "start_time": "2019-07-03T14:25:12.198074Z"
    }
   },
   "outputs": [],
   "source": [
    "## distribution des composantes principales\n",
    "plt.boxplot(C[:,0:20])\n",
    "plt.show()"
   ]
  },
  {
   "cell_type": "markdown",
   "metadata": {},
   "source": [
    "**Q** Commenter ces résultats: quel choix de la dimension? \n",
    "\n",
    "**Q** Présence de valeurs atypiques."
   ]
  },
  {
   "cell_type": "code",
   "execution_count": null,
   "metadata": {
    "ExecuteTime": {
     "end_time": "2019-07-03T14:25:16.185075Z",
     "start_time": "2019-07-03T14:25:14.076138Z"
    }
   },
   "outputs": [],
   "source": [
    "## Repésentation des individus\n",
    "plt.figure(figsize=(5,5))\n",
    "for i, j, nom in zip(C[:,0], C[:,1], ozone[\"DepSeuil\"]):\n",
    "    color = \"red\" if nom  else \"blue\"\n",
    "    plt.plot(i, j, \"o\",color=color)\n",
    "plt.axis((-4,6,-4,6))  \n",
    "plt.show()"
   ]
  },
  {
   "cell_type": "code",
   "execution_count": null,
   "metadata": {
    "ExecuteTime": {
     "end_time": "2019-07-03T14:25:17.176836Z",
     "start_time": "2019-07-03T14:25:16.950889Z"
    }
   },
   "outputs": [],
   "source": [
    "## coordonnées et représentation des variables\n",
    "coord1=pca.components_[0]*np.sqrt(pca.explained_variance_[0])\n",
    "coord2=pca.components_[1]*np.sqrt(pca.explained_variance_[1])\n",
    "fig = plt.figure(figsize=(5,5))\n",
    "ax = fig.add_subplot(1, 1, 1)\n",
    "for i, j, nom in zip(coord1,coord2, ozone[[\"O3obs\",\"MOCAGE\",\"TEMPE\",\"VentMOD\",\n",
    "                                           \"VentANG\",\"SRMH2O\",\"LNO2\",\"LNO\"]].columns):\n",
    "    plt.text(i, j, nom)\n",
    "    plt.arrow(0,0,i,j,color='black')\n",
    "plt.axis((-1.2,1.2,-1.2,1.2))\n",
    "# cercle\n",
    "c=plt.Circle((0,0), radius=1, color='gray', fill=False)\n",
    "ax.add_patch(c)\n",
    "plt.show()"
   ]
  },
  {
   "cell_type": "markdown",
   "metadata": {},
   "source": [
    "**Q** Commenter la structure de corrélation des variables.\n",
    "\n",
    "**Q** L'objectif est de définir une surface séparant les deux classes. Une discriminaiton linéaire (hyperplan) semble-t-elle possible?    "
   ]
  },
  {
   "cell_type": "markdown",
   "metadata": {},
   "source": [
    "## Modélisations"
   ]
  },
  {
   "cell_type": "markdown",
   "metadata": {},
   "source": [
    "La recherche  d'une meilleure méthode de prévision suit généralement le protocole suivant dont la première étape est déja réalisée.\n",
    "\n",
    "\n",
    "1. Etape descriptive préliminaire uni et multidimensionnelle visant à repérer les incohérences, les variables non significatives ou de distribution exotique, les individus non concernés ou atypiques... et à étudier les structures des données. Ce peut être aussi la longue étape de construction de variables, attributs ou *features* spécifiques des données. \n",
    "2. Procéder à un tirage aléatoire d'un échantillon *test* qui ne sera utilisé que lors de la *dernière étape* de comparaison des méthodes.\n",
    "3. La partie restante est l'échantillon d'*apprentissage* pour l'estimation des paramètres des modèles.\n",
    "4. Pour chacune des méthodes, optimiser la complexité des modèles en minimisant une estimation \"sans biais\" de l'erreur de prévision, par exemple par [*validation croisée*](http://wikistat.fr/pdf/st-m-app-risque-estim.pdf).\n",
    "    - Variables et interactions à prendre en compte dans la régression linéaire ou logistique;\n",
    "    - variables et méthode pour l'analyse discriminante;\n",
    "    - nombre de feuilles dans l'arbre de régression ou de classification;\n",
    "    - architecture (nombre de neurones, pénalisation) du perceptron;\n",
    "    - algorithme d'agrégation, \n",
    "    - noyau et pénalisation des SVMs.\n",
    "5.  Comparaison des qualités de prévision sur la base du taux de mal classés pour le seul échantillon test qui est resté à l'écart de tout effort ou \"acharnement\" pour l'optimisation des modèles.\n",
    "\n",
    "**Remarques**\n",
    "* En cas d'échantillon relativement \"petit\" il est recommandé d'itérer la procédure de découpage apprentissage / test ([validation croisée *Monte Carlo*](http://wikistat.fr/pdf/st-m-app-risque-estim.pdf)), afin de réduire la variance (moyenne) des estimations des erreurs de prévision.\n",
    "* *Attention*: ne pas \"tricher\" en modifiant le modèle obtenu lors de l'étape précédente afin d'améliorer le résultat sur l'échantillon test !\n",
    "* Le critère utilisé dépend du problème : erreur quadratique, taux de mauvais classement, AUC (aire sous la courbe ROC), indice de Pierce, *log loss function*...\n",
    "* L'étape \"choix\" de la meilleure méthode peut être remplacée par une combinaisons de prévision comme c'est souvent le cas dans les soutions \"gagnantes\" mais lourdes du site [kaggle](https://www.kaggle.com/competitions)."
   ]
  },
  {
   "cell_type": "markdown",
   "metadata": {},
   "source": [
    "### Extraction des échantillons apprentissage et test"
   ]
  },
  {
   "cell_type": "markdown",
   "metadata": {},
   "source": [
    "Transformation des données pour l'apprentissage. \n",
    "\n",
    "**Q** Pourquoi les variables qualitatives sont-elles transformées en paquets d'indicatrices ou *dummy variables*?\n",
    "\n",
    "**Q** Pourquoi le type data frame est transformé en une matrice. "
   ]
  },
  {
   "cell_type": "code",
   "execution_count": null,
   "metadata": {
    "ExecuteTime": {
     "end_time": "2019-07-03T14:25:34.451077Z",
     "start_time": "2019-07-03T14:25:34.429011Z"
    }
   },
   "outputs": [],
   "source": [
    "ozone.head()"
   ]
  },
  {
   "cell_type": "code",
   "execution_count": null,
   "metadata": {
    "ExecuteTime": {
     "end_time": "2019-07-03T14:25:40.194350Z",
     "start_time": "2019-07-03T14:25:40.160118Z"
    }
   },
   "outputs": [],
   "source": [
    "# Variables explicatives\n",
    "ozoneDum=pd.get_dummies(ozone[[\"JOUR\",\"STATION\"]])\n",
    "del ozoneDum[\"JOUR_0\"]\n",
    "ozoneQuant=ozone[[\"MOCAGE\",\"TEMPE\",\"VentMOD\",\"VentANG\",\"SRMH2O\",\"LNO2\",\"LNO\"]]\n",
    "dfC=pd.concat([ozoneDum,ozoneQuant],axis=1)\n",
    "dfC.head()"
   ]
  },
  {
   "cell_type": "code",
   "execution_count": null,
   "metadata": {
    "ExecuteTime": {
     "end_time": "2019-07-03T14:25:45.838848Z",
     "start_time": "2019-07-03T14:25:45.835208Z"
    },
    "collapsed": true
   },
   "outputs": [],
   "source": [
    "# variable à expliquer binaire\n",
    "Yb=ozone[\"DepSeuil\"].map(lambda x: int(x))\n",
    "# variable à expliquer réelle\n",
    "Yr=ozone[\"O3obs\"]"
   ]
  },
  {
   "cell_type": "code",
   "execution_count": null,
   "metadata": {
    "ExecuteTime": {
     "end_time": "2019-07-03T14:25:48.238997Z",
     "start_time": "2019-07-03T14:25:48.042261Z"
    }
   },
   "outputs": [],
   "source": [
    "Yr.hist()\n",
    "plt.show()"
   ]
  },
  {
   "cell_type": "markdown",
   "metadata": {},
   "source": [
    "Extractions des échantillons d'apprentissage  et test pour les deux types de modèles. Comme le générateur est initalisé de façon identique, ce sont les mêmes échantillons dans les deux cas."
   ]
  },
  {
   "cell_type": "code",
   "execution_count": null,
   "metadata": {
    "ExecuteTime": {
     "end_time": "2019-07-03T14:25:49.893895Z",
     "start_time": "2019-07-03T14:25:49.879249Z"
    },
    "collapsed": true
   },
   "outputs": [],
   "source": [
    "from sklearn.model_selection import train_test_split  \n",
    "X_train,X_test,Yb_train,Yb_test=train_test_split(dfC,Yb,test_size=200,random_state=11)\n",
    "X_train,X_test,Yr_train,Yr_test=train_test_split(dfC,Yr,test_size=200,random_state=11)"
   ]
  },
  {
   "cell_type": "markdown",
   "metadata": {},
   "source": [
    "L'étape suivante est une étape de standardisation des données ou normalisation. Les variables sont divisées par leur écart-type. Ce n'est pas utile dans le cas d'un modèle linéaire élémentaire car la solution est identique mais indispensbale pour beaucoup d'autres méthodes non linéaires (SVM, réseaux de neurones, modèles avec pénalisation). Cette étape est donc concrètement systématiquement exécutée pour éviter des soucis. *Attention*, les mêmes paramètres  (moyennes, écarts-types) estimés sur l'échantillon d'apprentissage sont utilisés pour normaliser l'échantillon test. "
   ]
  },
  {
   "cell_type": "code",
   "execution_count": null,
   "metadata": {
    "ExecuteTime": {
     "end_time": "2019-07-03T14:26:20.064911Z",
     "start_time": "2019-07-03T14:26:20.052302Z"
    },
    "collapsed": true
   },
   "outputs": [],
   "source": [
    "from sklearn.preprocessing import StandardScaler  \n",
    "# L'algorithme ds réseaux de neurones nécessite éventuellement une normalisation \n",
    "# des variables explicatives avec les commandes ci-dessous\n",
    "scaler = StandardScaler()  \n",
    "scaler.fit(X_train)  \n",
    "Xr_train = scaler.transform(X_train)  \n",
    "# Meme transformation sur le test\n",
    "Xr_test = scaler.transform(X_test)"
   ]
  },
  {
   "cell_type": "markdown",
   "metadata": {},
   "source": [
    "### Modèles linéaires"
   ]
  },
  {
   "cell_type": "markdown",
   "metadata": {},
   "source": [
    "Les fonctions de modéles linéaires et linéaires généralisées sont limitées dans [Scikit-learn](http://scikit-learn.org/stable/supervised_learning.html#supervised-learning) et sans sorties numériques (tests) détaillées qui sont à rechercher dans une autre librairie ([StatsModels](http://statsmodels.sourceforge.net/stable/examples/notebooks/generated/glm.html)). Dans les deux cas, les stratégies classiques (forward, backward, stepwise, Furnival et Wilson) de sélection de variables par optimisation d'un critère (Cp, AIC, BIC) ne semblent pas disponibles, même si AIC et BIC sont présents dans scikit-learn, et le type DataFrame (package *pandas*) n'est pas reconnu.\n",
    "\n",
    "La façon efficace de procéder est donc d'introduire une [pénalisation Lasso](http://wikistat.fr/pdf/st-m-app-select.pdf) pour opérer une sélection de variables ou plutôt la sélection de variables quantitatives et d'indicatrices des modalités de celles qualitatives mais sans analyse fine des interactions comme cela est possible avec R.\n",
    "\n",
    "**Q** Quel autre type de pénalisation est aussi utilisée en régression?\n"
   ]
  },
  {
   "cell_type": "markdown",
   "metadata": {},
   "source": [
    "A titre de comparaison, on trace la prévision de la concentration de l'échantillon test par la seule valeur du modèle *Mocage* ainsi que les résidus à ce modèle fonction de la valeur prédite (Mocage)"
   ]
  },
  {
   "cell_type": "code",
   "execution_count": null,
   "metadata": {
    "ExecuteTime": {
     "end_time": "2019-07-03T14:26:34.294057Z",
     "start_time": "2019-07-03T14:26:34.146620Z"
    }
   },
   "outputs": [],
   "source": [
    "plt.plot(X_train[\"MOCAGE\"],Yr_train,\"o\")\n",
    "plt.xlabel(\"Mocage\")\n",
    "plt.ylabel(\"O3 observee\")\n",
    "plt.show()"
   ]
  },
  {
   "cell_type": "code",
   "execution_count": null,
   "metadata": {
    "ExecuteTime": {
     "end_time": "2019-07-03T14:26:38.168217Z",
     "start_time": "2019-07-03T14:26:38.163167Z"
    }
   },
   "outputs": [],
   "source": [
    "from sklearn.metrics import r2_score\n",
    "print(\"R2=\",r2_score(Yr_train,X_train[\"MOCAGE\"]))"
   ]
  },
  {
   "cell_type": "code",
   "execution_count": null,
   "metadata": {
    "ExecuteTime": {
     "end_time": "2019-07-03T14:26:38.827841Z",
     "start_time": "2019-07-03T14:26:38.681777Z"
    }
   },
   "outputs": [],
   "source": [
    "plt.plot(X_test[\"MOCAGE\"],Yr_test,\"o\")\n",
    "plt.xlabel(\"Mocage\")\n",
    "plt.ylabel(\"O3 observee\")\n",
    "plt.show()"
   ]
  },
  {
   "cell_type": "code",
   "execution_count": null,
   "metadata": {
    "ExecuteTime": {
     "end_time": "2019-07-03T14:26:51.261319Z",
     "start_time": "2019-07-03T14:26:51.098093Z"
    }
   },
   "outputs": [],
   "source": [
    "plt.plot(X_test[\"MOCAGE\"],X_test[\"MOCAGE\"]-Yr_test,\"o\")\n",
    "plt.xlabel(\"Mocage\")\n",
    "plt.ylabel(\"Residus\")\n",
    "plt.show()"
   ]
  },
  {
   "cell_type": "markdown",
   "metadata": {},
   "source": [
    "**Q** Commenter la qualité de ces résidus."
   ]
  },
  {
   "cell_type": "code",
   "execution_count": null,
   "metadata": {
    "ExecuteTime": {
     "end_time": "2019-07-03T14:26:53.886304Z",
     "start_time": "2019-07-03T14:26:53.881549Z"
    }
   },
   "outputs": [],
   "source": [
    "# Erreur quadratique moyenne\n",
    "from sklearn.metrics import mean_squared_error\n",
    "print(\"MSE=\",mean_squared_error(X_test[\"MOCAGE\"],Yr_test))"
   ]
  },
  {
   "cell_type": "code",
   "execution_count": null,
   "metadata": {
    "ExecuteTime": {
     "end_time": "2019-07-03T14:26:55.005442Z",
     "start_time": "2019-07-03T14:26:54.997664Z"
    }
   },
   "outputs": [],
   "source": [
    "# Le coefficient de détermination \n",
    "# peut être négatif en prévision avec un mauvais modèle, \n",
    "# est nul si la prévision est constante égale à la moyennne\n",
    "from sklearn.metrics import r2_score\n",
    "print(\"R2=\",r2_score(Yr_test,X_test[\"MOCAGE\"]))"
   ]
  },
  {
   "cell_type": "markdown",
   "metadata": {},
   "source": [
    "#### [Régression linéaire](http://wikistat.fr/pdf/st-m-app-select.pdf) ou modèle linéaire gaussien"
   ]
  },
  {
   "cell_type": "markdown",
   "metadata": {},
   "source": [
    "Comparer cette prévision déterministe (équation de Navier et Stockes) par l'adaptation statistique la plus élémentaire. Il s'agit d'une régression avec choix de modèle par régularisation avec une pénalisation lasso. \n",
    "\n",
    "**Q** Quelle est la valeur par défaut du paramètre de pénalisation Lasso?"
   ]
  },
  {
   "cell_type": "code",
   "execution_count": null,
   "metadata": {
    "ExecuteTime": {
     "end_time": "2019-07-03T14:26:58.009560Z",
     "start_time": "2019-07-03T14:26:58.002493Z"
    }
   },
   "outputs": [],
   "source": [
    "from sklearn import linear_model\n",
    "regLasso = linear_model.Lasso()\n",
    "regLasso.fit(Xr_train,Yr_train)\n",
    "prev=regLasso.predict(Xr_test)\n",
    "print(\"MSE=\",mean_squared_error(Yr_test,prev))"
   ]
  },
  {
   "cell_type": "code",
   "execution_count": null,
   "metadata": {
    "ExecuteTime": {
     "end_time": "2019-07-03T14:26:59.151945Z",
     "start_time": "2019-07-03T14:26:59.147390Z"
    }
   },
   "outputs": [],
   "source": [
    "from sklearn.metrics import r2_score\n",
    "print(\"R2=\",r2_score(Yr_test,prev))"
   ]
  },
  {
   "cell_type": "markdown",
   "metadata": {},
   "source": [
    "Le paramètre de pénalisation lasso est optimisé par validation croisée."
   ]
  },
  {
   "cell_type": "code",
   "execution_count": null,
   "metadata": {
    "ExecuteTime": {
     "end_time": "2019-07-03T14:27:02.829953Z",
     "start_time": "2019-07-03T14:27:01.300008Z"
    }
   },
   "outputs": [],
   "source": [
    "from sklearn.model_selection import GridSearchCV\n",
    "# grille de valeurs du paramètre alpha à optimiser\n",
    "param=[{\"alpha\":[0.05,0.1,0.2,0.3,0.4,0.5,1]}]\n",
    "regLasso = GridSearchCV(linear_model.Lasso(), param,cv=5,n_jobs=-1)\n",
    "regLassOpt=regLasso.fit(Xr_train, Yr_train)\n",
    "# paramètre optimal\n",
    "regLassOpt.best_params_[\"alpha\"]\n",
    "print(\"Meilleur R2 = %f, Meilleur paramètre = %s\" % (regLassOpt.best_score_,regLassOpt.best_params_))"
   ]
  },
  {
   "cell_type": "markdown",
   "metadata": {},
   "source": [
    "**Q** Quelle validation croisée est exécutée?\n",
    "\n",
    "Prévision avec la valeur optimale de `alpha` puis calcul et tracé des résidus."
   ]
  },
  {
   "cell_type": "code",
   "execution_count": null,
   "metadata": {
    "ExecuteTime": {
     "end_time": "2019-07-03T14:27:04.164996Z",
     "start_time": "2019-07-03T14:27:04.160119Z"
    }
   },
   "outputs": [],
   "source": [
    "prev=regLassOpt.predict(Xr_test)\n",
    "print(\"MSE=\",mean_squared_error(prev,Yr_test))\n",
    "print(\"R2=\",r2_score(Yr_test,prev))"
   ]
  },
  {
   "cell_type": "code",
   "execution_count": null,
   "metadata": {
    "ExecuteTime": {
     "end_time": "2019-07-03T14:27:05.445010Z",
     "start_time": "2019-07-03T14:27:05.296325Z"
    }
   },
   "outputs": [],
   "source": [
    "plt.plot(prev,Yr_test,\"o\")\n",
    "plt.xlabel(u\"O3 Prédite\")\n",
    "plt.ylabel(\"O3 observee\")\n",
    "plt.show()"
   ]
  },
  {
   "cell_type": "code",
   "execution_count": null,
   "metadata": {
    "ExecuteTime": {
     "end_time": "2019-07-03T14:27:06.754192Z",
     "start_time": "2019-07-03T14:27:06.574137Z"
    }
   },
   "outputs": [],
   "source": [
    "plt.plot(prev,Yr_test-prev,\"o\")\n",
    "plt.xlabel(u\"Prédites\")\n",
    "plt.ylabel(u\"Résidus\")\n",
    "plt.hlines(0,40,220)\n",
    "plt.show()"
   ]
  },
  {
   "cell_type": "markdown",
   "metadata": {},
   "source": [
    "**Q** Comparer ces résidus avec ceux précédents (mocage) et noter l'amélioration. \n",
    "\n",
    "**Q** Commenter la forme du nuage et donc la validité du modèle. \n",
    "\n",
    "L'interprétation nécessite de connaître les valeurs des coefficients du modèle alors que l'objet `regLassOpt` issu de `GridSearchCV` ne retient pas les paramètres estimés. Il faut donc le ré-estimer avec la valeur optimale du paramètre de pénalisation si l'on souhaite afficher ces coefficients."
   ]
  },
  {
   "cell_type": "code",
   "execution_count": null,
   "metadata": {
    "ExecuteTime": {
     "end_time": "2019-07-03T14:27:09.572250Z",
     "start_time": "2019-07-03T14:27:09.565410Z"
    }
   },
   "outputs": [],
   "source": [
    "# Coefficients\n",
    "regLasso=linear_model.Lasso(alpha=regLassOpt.best_params_['alpha'])\n",
    "model_lasso=regLasso.fit(Xr_train,Yr_train)\n",
    "model_lasso.coef_"
   ]
  },
  {
   "cell_type": "code",
   "execution_count": null,
   "metadata": {
    "ExecuteTime": {
     "end_time": "2019-07-03T14:27:11.312760Z",
     "start_time": "2019-07-03T14:27:11.306573Z"
    }
   },
   "outputs": [],
   "source": [
    "coef = pd.Series(model_lasso.coef_, index = X_train.columns)\n",
    "print(\"Lasso conserve \" + str(sum(coef != 0)) + \n",
    "      \" variables et en supprime \" +  str(sum(coef == 0)))"
   ]
  },
  {
   "cell_type": "code",
   "execution_count": null,
   "metadata": {
    "ExecuteTime": {
     "end_time": "2019-07-03T14:27:19.707175Z",
     "start_time": "2019-07-03T14:27:19.468550Z"
    }
   },
   "outputs": [],
   "source": [
    "imp_coef = coef.sort_values()\n",
    "plt.rcParams['figure.figsize'] = (8.0, 10.0)\n",
    "imp_coef.plot(kind = \"barh\")\n",
    "plt.title(u\"Coefficients du modèle lasso\")"
   ]
  },
  {
   "cell_type": "markdown",
   "metadata": {},
   "source": [
    "**Q** Noter les conséquences de la pénalisation; interpréter l'effet de chaque variable sur la concentration en ozone.\n",
    "\n",
    "C'est ici qu'apparaît une insuffisance de la librairie python. Il faudrait construire \"à la main\" ou utiliser la librairie *Statsmodels* pour afficher les statistiques des tests et p-valeurs. Même avec ces compléments, la prise en compte des interactions et de leur sélection ne sont pas prévues. De plus l'interprétation est compliquée par l'éclatement de chaque variable qualitative en paquets d'indicatrices. C'est encore compréhensible avec peu de variables mais devient rapidement inexploitable."
   ]
  },
  {
   "cell_type": "markdown",
   "metadata": {},
   "source": [
    "Le graphe suivant permet d'identifier les bonnes et mauvaises prévisions de dépassement du seuil légal, ici fixé à $ 150 \\mu g $."
   ]
  },
  {
   "cell_type": "code",
   "execution_count": null,
   "metadata": {
    "ExecuteTime": {
     "end_time": "2019-07-03T14:27:22.656106Z",
     "start_time": "2019-07-03T14:27:22.458659Z"
    }
   },
   "outputs": [],
   "source": [
    "plt.plot(prev,Yr_test,\"o\")\n",
    "plt.xlabel(u\"Valeurs prédites\")\n",
    "plt.ylabel(u\"O3 observée\")\n",
    "plt.hlines(150,50,300)\n",
    "plt.vlines(150,0,300)\n",
    "plt.show()"
   ]
  },
  {
   "cell_type": "code",
   "execution_count": null,
   "metadata": {
    "ExecuteTime": {
     "end_time": "2019-07-03T14:27:23.388558Z",
     "start_time": "2019-07-03T14:27:23.363309Z"
    }
   },
   "outputs": [],
   "source": [
    "# Dénombrement des erreurs par\n",
    "# matrice de confusion\n",
    "table=pd.crosstab(prev>150,Yr_test>150)\n",
    "print(table)"
   ]
  },
  {
   "cell_type": "markdown",
   "metadata": {},
   "source": [
    "**Q** Observer l'asymétrie de cette matrice. A quoi est-elle due au moins en partie ?"
   ]
  },
  {
   "cell_type": "markdown",
   "metadata": {},
   "source": [
    "*Scikit-learn* propose d'autres procédures d'optimisation du paramètre de régularisation lasso par validation croisée en régression; `lassoCV` utilise un algorithme de *coordinate descent*, sans calcul de dérivée puisque la norme *l1* n'est pas dérivable, tandis que `lassoLarsCV` est basée sur l'algorithme de *least angle regression*. Ces fonctions permettent de tracer également les *chemins de régularisation*. Voici l'exemple de `lassoCV` qui offre plus d'options."
   ]
  },
  {
   "cell_type": "code",
   "execution_count": null,
   "metadata": {
    "ExecuteTime": {
     "end_time": "2019-07-03T14:27:36.506053Z",
     "start_time": "2019-07-03T14:27:36.151777Z"
    }
   },
   "outputs": [],
   "source": [
    "from sklearn.linear_model import LassoCV, LassoLarsCV\n",
    "model = LassoCV(cv=5, alphas=np.array(range(1,50,1))/20.,n_jobs=-1,random_state=13).fit(Xr_train,Yr_train)\n",
    "m_log_alphas = -np.log10(model.alphas_)\n",
    "\n",
    "plt.figure()\n",
    "# ymin, ymax = 2300, 3800\n",
    "plt.plot(m_log_alphas, model.mse_path_, ':')\n",
    "plt.plot(m_log_alphas, model.mse_path_.mean(axis=-1), 'k',\n",
    "         label='MSE moyen', linewidth=2)\n",
    "plt.axvline(-np.log10(model.alpha_), linestyle='--', color='k',\n",
    "            label='alpha: optimal par VC')\n",
    "\n",
    "plt.legend()\n",
    "\n",
    "plt.xlabel('-log(alpha)')\n",
    "plt.ylabel('MSE')\n",
    "plt.title('MSE de chaque validation: coordinate descent ')\n",
    "plt.show()"
   ]
  },
  {
   "cell_type": "markdown",
   "metadata": {},
   "source": [
    "**Q** Vérifier que c'est bien la même valeur optimale que celle précédemment trouvée.\n",
    "\n",
    "Tracés des chemins de régularisation."
   ]
  },
  {
   "cell_type": "code",
   "execution_count": null,
   "metadata": {
    "ExecuteTime": {
     "end_time": "2019-07-03T14:27:40.346232Z",
     "start_time": "2019-07-03T14:27:40.152557Z"
    }
   },
   "outputs": [],
   "source": [
    "from itertools import cycle\n",
    "\n",
    "from sklearn.linear_model import lasso_path\n",
    "alphas_lasso, coefs_lasso, _ = lasso_path(Xr_train,Yr_train, alphas=np.array(range(1,50,1))/20.,)\n",
    "\n",
    "\n",
    "plt.figure()\n",
    "ax = plt.gca()\n",
    "\n",
    "styles = cycle(['-', '--', '-.', ':'])\n",
    "\n",
    "neg_log_alphas_lasso = -np.log10(alphas_lasso)\n",
    "for coef_l, s in zip(coefs_lasso, styles):\n",
    "    l1 = plt.plot(neg_log_alphas_lasso, coef_l, linestyle=s,c='b')\n",
    "plt.xlabel('-Log(alpha)')\n",
    "plt.ylabel('Coefficients')\n",
    "plt.show()"
   ]
  },
  {
   "cell_type": "markdown",
   "metadata": {},
   "source": [
    "#### [Régression logistique](http://wikistat.fr/pdf/st-m-app-rlogit.pdf) ou modèle binomial"
   ]
  },
  {
   "cell_type": "markdown",
   "metadata": {},
   "source": [
    "La même démarche est déroulée mais en modélisant directement la variable binaire Yb de dépassement ou non du seuil. Il s'agit d'une régression logistique avec toujours une pénalisation Lasso pour opérer une sélection de variables."
   ]
  },
  {
   "cell_type": "code",
   "execution_count": null,
   "metadata": {
    "ExecuteTime": {
     "end_time": "2019-07-03T14:27:44.195170Z",
     "start_time": "2019-07-03T14:27:44.189110Z"
    },
    "collapsed": true
   },
   "outputs": [],
   "source": [
    "from sklearn.linear_model import LogisticRegression"
   ]
  },
  {
   "cell_type": "code",
   "execution_count": null,
   "metadata": {
    "ExecuteTime": {
     "end_time": "2019-07-03T14:29:54.389627Z",
     "start_time": "2019-07-03T14:29:54.184176Z"
    }
   },
   "outputs": [],
   "source": [
    "# Optimisation du paramètre de pénalisation\n",
    "# grille de valeurs\n",
    "param=[{\"C\":[1,1.2,1.5,1.7,2,3,4]}]\n",
    "logit = GridSearchCV(LogisticRegression(penalty=\"l1\",solver=\"liblinear\"), param,cv=5,n_jobs=-1)\n",
    "logitOpt=logit.fit(Xr_train, Yb_train)  # GridSearchCV est lui même un estimateur\n",
    "# paramètre optimal\n",
    "logitOpt.best_params_[\"C\"]\n",
    "print(\"Meilleur score = %f, Meilleur paramètre = %s\" % (1.-logitOpt.best_score_,logitOpt.best_params_))"
   ]
  },
  {
   "cell_type": "code",
   "execution_count": null,
   "metadata": {
    "ExecuteTime": {
     "end_time": "2019-07-03T14:29:55.639604Z",
     "start_time": "2019-07-03T14:29:55.632976Z"
    }
   },
   "outputs": [],
   "source": [
    "# erreur sur l'échantillon test\n",
    "1-logitOpt.score(Xr_test, Yb_test)"
   ]
  },
  {
   "cell_type": "markdown",
   "metadata": {},
   "source": [
    "Le modèle \"optimal\"  obtenu est utilisé pour prédire l'échantillon test et estimer ainsi, sans biais, une erreur de prévision. \n",
    "\n",
    "La matrice de confusion croise les dépassements de seuils prédits avec ceux effectivement observés. "
   ]
  },
  {
   "cell_type": "code",
   "execution_count": null,
   "metadata": {
    "ExecuteTime": {
     "end_time": "2019-07-03T14:29:59.746971Z",
     "start_time": "2019-07-03T14:29:59.722679Z"
    }
   },
   "outputs": [],
   "source": [
    "# Prévision\n",
    "y_chap = logitOpt.predict(Xr_test)\n",
    "# matrice de confusion\n",
    "table=pd.crosstab(y_chap,Yb_test)\n",
    "print(table)"
   ]
  },
  {
   "cell_type": "markdown",
   "metadata": {},
   "source": [
    "L'interprétation du modèle est basée sur les valeurs des coefficients avec les mêmes difficultés ou restrictions que pour la régression. Attention, `GridSearch` ne retient pas les coefficients, il faut les ré-estimer."
   ]
  },
  {
   "cell_type": "code",
   "execution_count": null,
   "metadata": {
    "ExecuteTime": {
     "end_time": "2019-07-03T14:30:28.921870Z",
     "start_time": "2019-07-03T14:30:28.909475Z"
    }
   },
   "outputs": [],
   "source": [
    "# Coefficients\n",
    "logitLasso=LogisticRegression(penalty=\"l1\",C=logitOpt.best_params_['C'],\n",
    "                              solver=\"liblinear\")\n",
    "logitCoef=logitLasso.fit(Xr_train,Yb_train).coef_\n",
    "print(logitCoef[0])"
   ]
  },
  {
   "cell_type": "code",
   "execution_count": null,
   "metadata": {
    "ExecuteTime": {
     "end_time": "2019-07-03T14:30:30.859511Z",
     "start_time": "2019-07-03T14:30:30.854289Z"
    }
   },
   "outputs": [],
   "source": [
    "coef = pd.Series(logitCoef[0], index = X_train.columns)\n",
    "print(\"Lasso conserve \" + str(sum(coef != 0)) + \n",
    "      \" variables et en supprime \" +  str(sum(coef == 0)))"
   ]
  },
  {
   "cell_type": "code",
   "execution_count": null,
   "metadata": {
    "ExecuteTime": {
     "end_time": "2019-07-03T14:30:32.214649Z",
     "start_time": "2019-07-03T14:30:31.990466Z"
    }
   },
   "outputs": [],
   "source": [
    "imp_coef = coef.sort_values()\n",
    "plt.rcParams['figure.figsize'] = (6.0, 6.0)\n",
    "imp_coef.plot(kind = \"barh\")\n",
    "plt.title(u\"Coefficients du modèle lasso\")"
   ]
  },
  {
   "cell_type": "markdown",
   "metadata": {},
   "source": [
    "**Q** Interpréter l'effet des variables retenues."
   ]
  },
  {
   "cell_type": "code",
   "execution_count": null,
   "metadata": {
    "ExecuteTime": {
     "end_time": "2019-07-03T14:31:00.567474Z",
     "start_time": "2019-07-03T14:31:00.370789Z"
    }
   },
   "outputs": [],
   "source": [
    "from sklearn.metrics import roc_curve\n",
    "probas_ = LogisticRegression(penalty=\"l1\", solver=\"liblinear\",\n",
    "                    C=logitOpt.best_params_['C']).fit(X_train, Yb_train).predict_proba(X_test)\n",
    "fpr, tpr, thresholds = roc_curve(Yb_test, probas_[:,1])\n",
    "plt.plot(fpr, tpr, lw=1)\n",
    "plt.xlabel('Taux de faux positifs')\n",
    "plt.ylabel('Taux de vrais positifs')\n",
    "plt.show()"
   ]
  },
  {
   "cell_type": "markdown",
   "metadata": {},
   "source": [
    "**Q** Commenter la courbe ROC à propos du choix de la valeur seuil."
   ]
  },
  {
   "cell_type": "markdown",
   "metadata": {},
   "source": [
    "# <FONT COLOR=\"Red\">Épisode 2</font>"
   ]
  },
  {
   "cell_type": "markdown",
   "metadata": {},
   "source": [
    "### [K plus proches voisins](http://wikistat.fr/pdf/st-m-app-add.pdf)"
   ]
  },
  {
   "cell_type": "markdown",
   "metadata": {},
   "source": [
    "Voici un cas d'application d'analyses discriminantes [non paramétriques](http://scikit-learn.org/stable/modules/neighbors.html), celles [paramétriques](http://scikit-learn.org/stable/modules/lda_qda.html) (gaussienes) linéaires et quadratiques sont également présentes dans *scikit-learn* mais laissées en exercice.\n",
    "\n",
    "Le paramètre de compléxité ($k$) est optimisé sur une grille prédéfinie en minimisant l'erreur estimée par validation croisée; scikit-learn propose de nombreuses options de validation croisée. "
   ]
  },
  {
   "cell_type": "code",
   "execution_count": null,
   "metadata": {
    "ExecuteTime": {
     "end_time": "2019-07-03T14:31:15.067589Z",
     "start_time": "2019-07-03T14:31:14.743368Z"
    }
   },
   "outputs": [],
   "source": [
    "from sklearn.neighbors import KNeighborsClassifier\n",
    "# Optimisation de k\n",
    "# grille de valeurs\n",
    "param_grid=[{\"n_neighbors\":list(range(1,15))}]\n",
    "knn=GridSearchCV(KNeighborsClassifier(),param_grid,cv=5,n_jobs=-1)\n",
    "knnOpt=knn.fit(Xr_train, Yb_train)  # GridSearchCV est lui même un estimateur\n",
    "# paramètre optimal\n",
    "knnOpt.best_params_[\"n_neighbors\"]\n",
    "print(\"Meilleur score = %f, Meilleur paramètre = %s\" % (1.-knnOpt.best_score_,knnOpt.best_params_))"
   ]
  },
  {
   "cell_type": "code",
   "execution_count": null,
   "metadata": {
    "ExecuteTime": {
     "end_time": "2019-07-03T14:31:16.288753Z",
     "start_time": "2019-07-03T14:31:16.273890Z"
    }
   },
   "outputs": [],
   "source": [
    "# Estimation de l'erreur de prévision sur l'échantillon test\n",
    "1-knnOpt.score(Xr_test,Yb_test)"
   ]
  },
  {
   "cell_type": "code",
   "execution_count": null,
   "metadata": {
    "ExecuteTime": {
     "end_time": "2019-07-03T14:31:17.610038Z",
     "start_time": "2019-07-03T14:31:17.585097Z"
    }
   },
   "outputs": [],
   "source": [
    "# Prévision de l'échantillon test\n",
    "y_chap = knnOpt.predict(Xr_test)\n",
    "# matrice de confusion\n",
    "table=pd.crosstab(y_chap,Yb_test)\n",
    "print(table)"
   ]
  },
  {
   "cell_type": "markdown",
   "metadata": {},
   "source": [
    "**Exercice** Compléter les résultats en utilisant la fonction [KNeighborsRegressor](http://scikit-learn.org/stable/modules/generated/sklearn.neighbors.KNeighborsRegressor.html) pour modéliser la concentration; optimiser $k$, calculer la prévision de l'échantillon test, tracer le graphe des résidus, calculer le MSE sur l'échantillon test."
   ]
  },
  {
   "cell_type": "markdown",
   "metadata": {},
   "source": [
    "### [Arbre binaire de décision](http://wikistat.fr/pdf/st-m-app-cart.pdf)"
   ]
  },
  {
   "cell_type": "markdown",
   "metadata": {},
   "source": [
    "Les [arbres binaires de décision](http://scikit-learn.org/stable/modules/tree.html) : discrimination ou régression, sont bien implémentés dans *scikit-learn* mais avec une insuffisance pour leur élagage. Ce n'est pas une *pénalisation* de la *complexité*, et donc précisément le nombre de feuilles qui est optimisé, mais la profondeur globale de l'arbre au risque d'élaguer, à une profondeur donnée, des feuilles importantes ou de conserver des feuilles ambigües.\n",
    "\n",
    "Comme précédemment, la validation croisée permet d'optimiser le paramètre sur une grille."
   ]
  },
  {
   "cell_type": "code",
   "execution_count": null,
   "metadata": {
    "ExecuteTime": {
     "end_time": "2019-07-03T14:31:22.933985Z",
     "start_time": "2019-07-03T14:31:22.716253Z"
    }
   },
   "outputs": [],
   "source": [
    "from sklearn.tree import DecisionTreeClassifier\n",
    "# Optimisation de la profondeur de l'arbre\n",
    "param=[{\"max_depth\":list(range(2,10))}]\n",
    "tree= GridSearchCV(DecisionTreeClassifier(),param,cv=10,n_jobs=-1)\n",
    "treeOpt=tree.fit(Xr_train, Yb_train)\n",
    "# paramètre optimal\n",
    "print(\"Meilleur score = %f, Meilleur paramètre = %s\" % (1. - treeOpt.best_score_,treeOpt.best_params_))"
   ]
  },
  {
   "cell_type": "code",
   "execution_count": null,
   "metadata": {
    "ExecuteTime": {
     "end_time": "2019-07-03T14:31:24.032135Z",
     "start_time": "2019-07-03T14:31:24.027213Z"
    }
   },
   "outputs": [],
   "source": [
    "# Estimation de l'erreur de prévision\n",
    "1-treeOpt.score(Xr_test,Yb_test)"
   ]
  },
  {
   "cell_type": "code",
   "execution_count": null,
   "metadata": {
    "ExecuteTime": {
     "end_time": "2019-07-03T14:31:25.322554Z",
     "start_time": "2019-07-03T14:31:25.302916Z"
    }
   },
   "outputs": [],
   "source": [
    "# prévision de l'échantillon test\n",
    "y_chap = treeOpt.predict(Xr_test)\n",
    "# matrice de confusion\n",
    "table=pd.crosstab(y_chap,Yb_test)\n",
    "print(table)"
   ]
  },
  {
   "cell_type": "markdown",
   "metadata": {},
   "source": [
    "Autre difficulté dans la représentation d'un arbre de décision binaire. Le logiciel conseillé (Graphviz) semble délicat d'installation et d'utilisation pour un néophyte. Il est possible de lister la construction des noeuds avec quelques [lignes de commande.](http://scikit-learn.org/stable/auto_examples/tree/plot_unveil_tree_structure.html#sphx-glr-auto-examples-tree-plot-unveil-tree-structure-py)"
   ]
  },
  {
   "cell_type": "code",
   "execution_count": null,
   "metadata": {
    "ExecuteTime": {
     "end_time": "2019-07-03T14:31:27.738368Z",
     "start_time": "2019-07-03T14:31:27.624684Z"
    }
   },
   "outputs": [],
   "source": [
    "from sklearn.tree import export_graphviz\n",
    "from sklearn.externals.six import StringIO  \n",
    "import pydotplus\n",
    "treeG=DecisionTreeClassifier(max_depth=treeOpt.best_params_['max_depth'])\n",
    "treeG.fit(Xr_train,Yb_train)\n",
    "dot_data = StringIO() \n",
    "export_graphviz(treeG, out_file=dot_data) \n",
    "graph=pydotplus.graph_from_dot_data(dot_data.getvalue()) \n",
    "graph.write_png(\"treeOpt.png\")  "
   ]
  },
  {
   "cell_type": "code",
   "execution_count": null,
   "metadata": {
    "ExecuteTime": {
     "end_time": "2019-07-03T14:37:04.370887Z",
     "start_time": "2019-07-03T14:37:04.360361Z"
    },
    "collapsed": true
   },
   "outputs": [],
   "source": [
    "from IPython.display import Image\n",
    "Image(filename='treeOpt.png')"
   ]
  },
  {
   "cell_type": "markdown",
   "metadata": {},
   "source": [
    "**Q** Que dire de l'interprétation de l'arbre? Comparer les rôles des variables avec le modèle logit.\n",
    "\n",
    "**Exercice** Compléter les résultats en utilisant la fonction [DecisionTreeRegressor](http://scikit-learn.org/stable/modules/generated/sklearn.tree.DecisionTreeRegressor.html) pour modéliser concentration; optimiser la profondeur, calculer la prévision de l'échantillon test, tracer les résidus, calculer le MSE sur l'échantillon test."
   ]
  },
  {
   "cell_type": "markdown",
   "metadata": {},
   "source": [
    "# <FONT COLOR=\"Red\">Épisode 3</font>"
   ]
  },
  {
   "cell_type": "markdown",
   "metadata": {},
   "source": [
    "### [Réseau de neurones](http://wikistat.fr/pdf/st-m-app-rn.pdf)"
   ]
  },
  {
   "cell_type": "markdown",
   "metadata": {},
   "source": [
    "Les réseaux neuronaux (perceptron multicouche) ne sont présents dans le package `Scikit-learn` qu'à partir de la version 0.18. Les méthodes *profondes* (*deep learning*) nécessitent l'installation des librairies [*theano*](http://deeplearning.net/software/theano/) et [*Lasagne*](http://lasagne.readthedocs.io/en/latest/index.html) ou [*theano*](http://deeplearning.net/software/theano/), [*TensorFlow*](https://www.tensorflow.org/versions/r0.11/get_started/os_setup.html) et [*Keras*](https://keras.io/). Ces dernières sont nettement plus complexes à installer, surtout sous Windows. Elles feront l'objet d'un autre tutoriel."
   ]
  },
  {
   "cell_type": "code",
   "execution_count": null,
   "metadata": {
    "ExecuteTime": {
     "end_time": "2019-07-03T14:37:22.747070Z",
     "start_time": "2019-07-03T14:37:22.734949Z"
    },
    "collapsed": true
   },
   "outputs": [],
   "source": [
    "from sklearn.neural_network import MLPClassifier"
   ]
  },
  {
   "cell_type": "markdown",
   "metadata": {},
   "source": [
    "Définition des paramètres dont le nombre de neurones et `alpha` qui règle la régularisation par défaut 10-5. Le nombre de neurones est optimisé mais ce peut être `alpha` avec un nombre grand de neurones. Le nombre max d'itérations par défaut (200) semble insuffisant. Il est fixé à 500."
   ]
  },
  {
   "cell_type": "code",
   "execution_count": null,
   "metadata": {
    "ExecuteTime": {
     "end_time": "2019-07-03T14:37:37.519662Z",
     "start_time": "2019-07-03T14:37:26.329586Z"
    },
    "collapsed": true
   },
   "outputs": [],
   "source": [
    "param_grid=[{\"hidden_layer_sizes\":list([(5,),(6,),(7,),(8,)])}]\n",
    "nnet= GridSearchCV(MLPClassifier(max_iter=500),param_grid,cv=10,n_jobs=-1)\n",
    "nnetOpt=nnet.fit(Xr_train, Yb_train)\n",
    "# paramètre optimal\n",
    "print(\"Meilleur score = %f, Meilleur paramètre = %s\" % (1. - nnetOpt.best_score_,nnetOpt.best_params_))"
   ]
  },
  {
   "cell_type": "code",
   "execution_count": null,
   "metadata": {
    "ExecuteTime": {
     "end_time": "2019-07-03T14:38:00.565722Z",
     "start_time": "2019-07-03T14:38:00.558846Z"
    },
    "collapsed": true
   },
   "outputs": [],
   "source": [
    "# Estimation de l'erreur de prévision sur le test\n",
    "1-nnetOpt.score(Xr_test,Yb_test)"
   ]
  },
  {
   "cell_type": "code",
   "execution_count": null,
   "metadata": {
    "ExecuteTime": {
     "end_time": "2019-07-03T14:38:02.140244Z",
     "start_time": "2019-07-03T14:38:02.114532Z"
    },
    "collapsed": true
   },
   "outputs": [],
   "source": [
    "# prévision de l'échantillon test\n",
    "y_chap = nnetOpt.predict(Xr_test)\n",
    "# matrice de confusion\n",
    "table=pd.crosstab(y_chap,Yb_test)\n",
    "print(table)"
   ]
  },
  {
   "cell_type": "markdown",
   "metadata": {},
   "source": [
    "**Exercice** Remplacer ensuite la fonction MLPClassifier par celle [MLPRegressor](http://scikit-learn.org/stable/modules/generated/sklearn.ensemble.RandomForestRegressor.html) de régression. Optimiser le paramètre, calculer la prévision, les résidus, le MSE."
   ]
  },
  {
   "cell_type": "markdown",
   "metadata": {},
   "source": [
    "### [Forêts aléatoires](http://wikistat.fr/pdf/st-m-app-agreg.pdf)"
   ]
  },
  {
   "cell_type": "markdown",
   "metadata": {},
   "source": [
    "La librairie *randomForest* de R utilise le programme historique développé par [Breiman et Cutler](https://www.stat.berkeley.edu/~breiman/RandomForests/cc_software.htm)(2001) et interfacé  par [Liaw et Wiener](https://cran.r-project.org/web/packages/randomForest/randomForest.pdf). Cette interface est toujours mise à jour mais il n'est pas sûr que le programme original continue d'évoluer depuis 2004. Pour des tailles importantes d'échantillons, quelques milliers, cette implémentation atteint des temps d'exécution rédhibitoires (cf. cet [exemple](https://github.com/wikistat/Ateliers-Big-Data/blob/master/2-MNIST/Atelier-MNIST-R.ipynb)) au contraire de celle en Python dont gestion mémoire et capacité de parallélisation ont été finement optimisées par [Louppe et al.](http://fr.slideshare.net/glouppe/accelerating-random-forests-in-scikitlearn)(2014). "
   ]
  },
  {
   "cell_type": "markdown",
   "metadata": {},
   "source": [
    "De même que le boosting, deux fonctions  de forêt sont proposés dans [scikit-learn](http://scikit-learn.org/stable/modules/ensemble.html) ; une pour la régression et une pour la classification ainsi qu'une version \"plus aléatoire\". Par rapport à la version originale de R, moins d'options sont proposées mais l'utilisation de base est très similaire avec le même jeu de paramètres.\n",
    "\n",
    "**Q20** Identifier les paramètres, les valeurs par défaut."
   ]
  },
  {
   "cell_type": "code",
   "execution_count": null,
   "metadata": {
    "ExecuteTime": {
     "end_time": "2019-07-03T14:38:11.045326Z",
     "start_time": "2019-07-03T14:38:10.432570Z"
    },
    "collapsed": true
   },
   "outputs": [],
   "source": [
    "from sklearn.ensemble import RandomForestClassifier \n",
    "# définition des paramètres\n",
    "forest = RandomForestClassifier(n_estimators=500, \n",
    "   criterion='gini', max_depth=None,\n",
    "   min_samples_split=2, min_samples_leaf=1, \n",
    "   max_features='auto', max_leaf_nodes=None,\n",
    "   bootstrap=True, oob_score=True)\n",
    "# apprentissage\n",
    "rfFit = forest.fit(Xr_train,Yb_train)\n",
    "print(1-rfFit.oob_score_)"
   ]
  },
  {
   "cell_type": "markdown",
   "metadata": {},
   "source": [
    "Comparer l'erreur out-of-bag ci-dessus avec celle sur l'échantillon test."
   ]
  },
  {
   "cell_type": "code",
   "execution_count": null,
   "metadata": {
    "ExecuteTime": {
     "end_time": "2019-07-03T14:38:13.874506Z",
     "start_time": "2019-07-03T14:38:13.822752Z"
    },
    "collapsed": true
   },
   "outputs": [],
   "source": [
    "# erreur de prévision sur le test\n",
    "1-rfFit.score(Xr_test,Yb_test)"
   ]
  },
  {
   "cell_type": "markdown",
   "metadata": {},
   "source": [
    "Optimisation par validation croisée du nombre de variables tirés aléatoirement lors de la construction de chaque noeud. "
   ]
  },
  {
   "cell_type": "code",
   "execution_count": null,
   "metadata": {
    "ExecuteTime": {
     "end_time": "2019-07-03T14:38:17.884131Z",
     "start_time": "2019-07-03T14:38:15.619642Z"
    },
    "collapsed": true
   },
   "outputs": [],
   "source": [
    "param=[{\"max_features\":list(range(2,10,1))}]\n",
    "rf= GridSearchCV(RandomForestClassifier(n_estimators=100),\n",
    "        param,cv=5,n_jobs=-1)\n",
    "rfOpt=rf.fit(Xr_train, Yb_train)\n",
    "# paramètre optimal\n",
    "print(\"Meilleur score = %f, Meilleur paramètre = %s\" % (1. - rfOpt.best_score_,rfOpt.best_params_))"
   ]
  },
  {
   "cell_type": "markdown",
   "metadata": {},
   "source": [
    "Plusieurs exécutions, rendues aléatoires par la validation croisée, peuvent conduire à des valeurs \"optimales\" différentes de ce paramètre sans pour autant nuire à la qualité de prévision sur l'échantillon test."
   ]
  },
  {
   "cell_type": "code",
   "execution_count": null,
   "metadata": {
    "ExecuteTime": {
     "end_time": "2019-07-03T14:38:30.036729Z",
     "start_time": "2019-07-03T14:38:30.021280Z"
    },
    "collapsed": true
   },
   "outputs": [],
   "source": [
    "# erreur de prévision sur le test\n",
    "1-rfOpt.score(Xr_test,Yb_test)"
   ]
  },
  {
   "cell_type": "markdown",
   "metadata": {},
   "source": [
    "**Exercice** Tester différentes valeurs de *min_samples_split* de celle trouvée optimale. Conclusion sur la sensibilité de l'optimisation de ce paramètre ?"
   ]
  },
  {
   "cell_type": "code",
   "execution_count": null,
   "metadata": {
    "ExecuteTime": {
     "end_time": "2019-07-03T14:38:32.446367Z",
     "start_time": "2019-07-03T14:38:32.381907Z"
    },
    "collapsed": true
   },
   "outputs": [],
   "source": [
    "# prévision\n",
    "y_chap = rfFit.predict(Xr_test)\n",
    "# matrice de confusion\n",
    "table=pd.crosstab(y_chap,Yb_test)\n",
    "print(table)"
   ]
  },
  {
   "cell_type": "markdown",
   "metadata": {},
   "source": [
    "Comme avec R, il est possible de calculer un indicateur d'importance des variables pour aider à une forme d'interprétation. Celui-ci dépend de la position de la variable dans l'arbre et correspond donc au *mean decrease in Gini index* de R plutôt qu'au *mean descrease in accuracy*. La forêt doit être réestimée car GridSearch ne connaît pas le paramètre d'importance."
   ]
  },
  {
   "cell_type": "code",
   "execution_count": null,
   "metadata": {
    "ExecuteTime": {
     "end_time": "2019-07-03T14:38:42.649581Z",
     "start_time": "2019-07-03T14:38:42.515882Z"
    },
    "collapsed": true
   },
   "outputs": [],
   "source": [
    "rf= RandomForestClassifier(n_estimators=100,max_features=2)\n",
    "rfFit=rf.fit(Xr_train, Yb_train)\n",
    "# Importance décroissante des variables\n",
    "importances = rfFit.feature_importances_\n",
    "indices = np.argsort(importances)[::-1]\n",
    "for f in range(Xr_train.shape[1]):\n",
    "    print(dfC.columns[indices[f]], importances[indices[f]])"
   ]
  },
  {
   "cell_type": "code",
   "execution_count": null,
   "metadata": {
    "ExecuteTime": {
     "end_time": "2019-07-03T14:38:43.877143Z",
     "start_time": "2019-07-03T14:38:43.692493Z"
    },
    "collapsed": true
   },
   "outputs": [],
   "source": [
    "# Graphe des importances\n",
    "plt.figure()\n",
    "plt.title(\"Importances des variables\")\n",
    "plt.bar(range(Xr_train.shape[1]), importances[indices])\n",
    "plt.xticks(range(Xr_train.shape[1]), indices)\n",
    "plt.xlim([-1, Xr_train.shape[1]])\n",
    "plt.show()"
   ]
  },
  {
   "cell_type": "markdown",
   "metadata": {},
   "source": [
    "**Q** Comparer les importances des variables et les sélections opérées précédemment. "
   ]
  },
  {
   "cell_type": "markdown",
   "metadata": {},
   "source": [
    "**Exercice** Remplacer ensuite la fonction RandomForestClassifier par celle [RandomForestRegressor](http://scikit-learn.org/stable/modules/generated/sklearn.ensemble.RandomForestRegressor.html) de régression. Optimiser le paramètre, calculer la prévision, les résidus, le MSE.\n",
    "\n",
    "**Exercice** Expérimenter également le boosting sur ces données en exécutant la fonction [GradientBoostingClassifier](http://scikit-learn.org/stable/modules/generated/sklearn.ensemble.GradientBoostingClassifier.html#sklearn.ensemble.GradientBoostingClassifier) opérant l'agorithme de *gradient tree boosting*. \n",
    "\n",
    "**Remarque:** Une version \"améliorée\" de *boosting* mieux paralélisée et incluant d'autres paramètres (pénalisation), est  proposé dans le package: [`XGBoost`](https://xgboost.readthedocs.io/en/latest/build.html#python-package-installation) qui peut être utilisé à partir de Python mais aussi R, Julia ou Java. Nénamoins le choix est fait d'arrêter l'acharnement sur ces données; `XGBoost` est testé en python sur un autre jeu de données. "
   ]
  },
  {
   "cell_type": "markdown",
   "metadata": {},
   "source": [
    "# <FONT COLOR=\"Red\">Épisode 4</font>"
   ]
  },
  {
   "cell_type": "markdown",
   "metadata": {},
   "source": [
    "### [*Support Vector Machine*](http://wikistat.fr/pdf/st-m-app-svm.pdf)"
   ]
  },
  {
   "cell_type": "markdown",
   "metadata": {},
   "source": [
    "De nombreux paramètres sont associés à cette méthode. La liste est à consulter dans la [documentation](http://scikit-learn.org/stable/modules/svm.html) en ligne.\n",
    "\n",
    "L'optimisation de la pénalisation (paramètre C) est recherchée sur une grille par validation croisée. Remarque: il serait nécessaire d'optimiser également la valeur du coefficient *gamma* lié au noyau gaussien (\"écart-type\").\n",
    "\n",
    "Il est souvent nécessaire de normaliser des données avant d'opérer les SVM."
   ]
  },
  {
   "cell_type": "code",
   "execution_count": null,
   "metadata": {
    "ExecuteTime": {
     "end_time": "2019-07-03T14:38:50.343053Z",
     "start_time": "2019-07-03T14:38:49.996323Z"
    },
    "collapsed": true
   },
   "outputs": [],
   "source": [
    "from sklearn.svm import SVC\n",
    "param=[{\"C\":[0.4,0.5,0.6,0.8,1,1.4]}]\n",
    "svm= GridSearchCV(SVC(),param,cv=10,n_jobs=-1)\n",
    "svmOpt=svm.fit(Xr_train, Yb_train)\n",
    "# paramètre optimal\n",
    "print(\"Meilleur score = %f, Meilleur paramètre = %s\" % (1. - svmOpt.best_score_,svmOpt.best_params_))"
   ]
  },
  {
   "cell_type": "code",
   "execution_count": null,
   "metadata": {
    "ExecuteTime": {
     "end_time": "2019-07-03T14:38:51.110079Z",
     "start_time": "2019-07-03T14:38:51.098176Z"
    },
    "collapsed": true
   },
   "outputs": [],
   "source": [
    "# erreur de prévision sur le test\n",
    "1-svmOpt.score(Xr_test,Yb_test)"
   ]
  },
  {
   "cell_type": "code",
   "execution_count": null,
   "metadata": {
    "ExecuteTime": {
     "end_time": "2019-07-03T14:38:52.035979Z",
     "start_time": "2019-07-03T14:38:52.008264Z"
    },
    "collapsed": true
   },
   "outputs": [],
   "source": [
    "# prévision de l'échantillon test\n",
    "y_chap = svmOpt.predict(Xr_test)\n",
    "# matrice de confusion\n",
    "table=pd.crosstab(y_chap,Yb_test)\n",
    "print(table)"
   ]
  },
  {
   "cell_type": "markdown",
   "metadata": {},
   "source": [
    "**Exercice** Comme précédemment, remplacer ensuite la fonction SVC par celle [SVR](http://scikit-learn.org/stable/modules/generated/sklearn.svm.SVR.html#sklearn.svm.SVR) de régression. Optimiser le paramètre, calculer la prévision, les résidus; le MSE."
   ]
  },
  {
   "cell_type": "markdown",
   "metadata": {},
   "source": [
    "## Synthèse: comparaison des méthodes"
   ]
  },
  {
   "cell_type": "markdown",
   "metadata": {},
   "source": [
    "### Courbes ROC"
   ]
  },
  {
   "cell_type": "markdown",
   "metadata": {},
   "source": [
    "Dans toute méthode, la prévision de dépassement ou non est associée au choix d'un seuil qui est par défaut 0.5. L'optimisaiton de ce seuil dépend des coûts respectifs associés aux faux positifs et aux faux négatifs qui ne sont pas nécessairement égaux. La courbe ROC permet de représenter l'influence de ce seuil sur les taux de faux positifs et vrais positifs.  "
   ]
  },
  {
   "cell_type": "code",
   "execution_count": null,
   "metadata": {
    "ExecuteTime": {
     "end_time": "2019-07-03T14:38:56.913682Z",
     "start_time": "2019-07-03T14:38:56.909523Z"
    },
    "collapsed": true
   },
   "outputs": [],
   "source": [
    "from sklearn.metrics import roc_curve\n",
    "listMethod=[[\"RF\",rfOpt],[\"NN\",nnetOpt],[\"Tree\",treeOpt],[\"K-nn\",knnOpt],[\"Logit\",logitOpt]]"
   ]
  },
  {
   "cell_type": "code",
   "execution_count": null,
   "metadata": {
    "ExecuteTime": {
     "end_time": "2019-07-03T14:39:10.717108Z",
     "start_time": "2019-07-03T14:38:57.980700Z"
    },
    "collapsed": true
   },
   "outputs": [],
   "source": [
    "for method in enumerate(listMethod):\n",
    "    probas_ = method[1][1].fit(Xr_train, Yb_train).predict_proba(Xr_test)\n",
    "    fpr, tpr, thresholds = roc_curve(Yb_test, probas_[:,1])\n",
    "    plt.plot(fpr, tpr, lw=1,label=\"%s\"%method[1][0])\n",
    "plt.xlabel('Taux de faux positifs')\n",
    "plt.ylabel('Taux de vrais positifs')\n",
    "plt.legend(loc=\"best\")\n",
    "plt.show()"
   ]
  },
  {
   "cell_type": "markdown",
   "metadata": {},
   "source": [
    "**Q22** Le critère d'AUC (aire sous la courbe) permet-il d'ordonner les courbes et donc les méthodes? \n",
    "\n",
    "C'est à un taux de faux positif admissible et donc à valeur de seuil fixé qu'il faut choisir la méthode d'apprentissage à privilégier. "
   ]
  },
  {
   "cell_type": "markdown",
   "metadata": {},
   "source": [
    "### Itération sur plusieurs échantillons de test ([validation croisée *Monte Carlo*](http://wikistat.fr/pdf/st-m-app-risque-estim.pdf))"
   ]
  },
  {
   "cell_type": "markdown",
   "metadata": {},
   "source": [
    "L'échantillon test est de taille modeste et donc l'estimation de l'erreur de prévision peut présenter une variance importante. Celle-ci est réduite en opérant une forme de validation croisée (*Monte Carlo*) en tirant plusieurs couples d'échantillon apprentissage et test pour itérer les traitements précédents. Les données sont normalisées pour toutes les méthodes car les autres que SVM et NN ne sont pas affectées.\n",
    "\n",
    "Les fonctionnalités de scikit-learn se prètent bien à l'automatisation de ces traitements enchaînant extraction d'échantillons, estimation de plusieurs modèles, optimisation de leurs paramètres et estimation de l'erreur de prévision sur le test.\n",
    "\n",
    "Le code est compact et d'exécution efficace car bien parallélisé par les fonctions utilisées."
   ]
  },
  {
   "cell_type": "code",
   "execution_count": null,
   "metadata": {
    "ExecuteTime": {
     "end_time": "2019-07-03T14:51:22.438772Z",
     "start_time": "2019-07-03T14:50:38.969063Z"
    },
    "collapsed": true
   },
   "outputs": [],
   "source": [
    "from sklearn.utils import check_random_state\n",
    "import time\n",
    "check_random_state(13)\n",
    "tps0=time.perf_counter()\n",
    "# définition des estimateurs\n",
    "logit= LogisticRegression(penalty=\"l1\",solver=\"liblinear\")\n",
    "knn  = KNeighborsClassifier()\n",
    "tree = DecisionTreeClassifier()\n",
    "nnet = MLPClassifier(max_iter=600)\n",
    "rf   = RandomForestClassifier(n_estimators=100)\n",
    "svm  = SVC()\n",
    "# Nombre d'itérations\n",
    "B=3 # pour exécuter après le test, mettre plutôt B=30\n",
    "# définition des grilles de paramètres\n",
    "listMethGrid=[[svm,{\"C\":[0.4,0.5,0.6,0.8,1,1.4]}],\n",
    "    [rf,{\"max_features\":list(range(2,10,2))}],\n",
    "    [nnet,{\"hidden_layer_sizes\":list([(5,),(6,),(7,),(8,)])}],\n",
    "    [tree,{\"max_depth\":list(range(2,10))}],\n",
    "    [knn,{\"n_neighbors\":list(range(1,15))}],\n",
    "    [logit,{\"C\":[0.5,1,5,10,12,15,30]}]]\n",
    "# Initialisation à 0 des erreurs pour chaque méthode (colonne) et chaque itération (ligne)\n",
    "arrayErreur=np.empty((B,6))\n",
    "for i in range(B):   # itérations sur B échantillons test\n",
    "    # extraction apprentissage et test\n",
    "    X_train,X_test,Yb_train,Yb_test=train_test_split(dfC,Yb,test_size=200)\n",
    "    scaler = StandardScaler()  \n",
    "    scaler.fit(X_train)  \n",
    "    X_train = scaler.transform(X_train)  \n",
    "    # Meme transformation sur le test\n",
    "    X_test = scaler.transform(X_test)\n",
    "    # optimisation de chaque méthode et calcul de l'erreur sur le test\n",
    "    for j,(method, grid_list) in enumerate(listMethGrid):\n",
    "        methodGrid=GridSearchCV(method,grid_list,cv=10,n_jobs=-1,\n",
    "                               iid=\"TRUE\").fit(X_train, Yb_train)\n",
    "        methodOpt = methodGrid.best_estimator_\n",
    "        methFit=methodOpt.fit(X_train, Yb_train)\n",
    "        arrayErreur[i,j]=1-methFit.score(X_test,Yb_test)\n",
    "tps1=time.perf_counter()\n",
    "print(\"Temps execution en mn :\",(tps1 - tps0))\n",
    "dataframeErreur=pd.DataFrame(arrayErreur,columns=[\"SVM\",\"RF\",\"NN\",\"Tree\",\"Knn\",\"Logit\"])    "
   ]
  },
  {
   "cell_type": "code",
   "execution_count": null,
   "metadata": {
    "ExecuteTime": {
     "end_time": "2019-07-03T14:51:28.031583Z",
     "start_time": "2019-07-03T14:51:27.827667Z"
    },
    "collapsed": true
   },
   "outputs": [],
   "source": [
    "# Distribution des erreurs de prévisions\n",
    "# Les SVM présentant des erreurs atypiques sont laissés de côté.\n",
    "dataframeErreur[[\"SVM\",\"RF\",\"NN\",\"Tree\",\"Knn\",\"Logit\"]].boxplot(return_type='dict')\n",
    "plt.show()"
   ]
  },
  {
   "cell_type": "code",
   "execution_count": null,
   "metadata": {
    "ExecuteTime": {
     "end_time": "2019-07-03T14:51:46.326851Z",
     "start_time": "2019-07-03T14:51:46.320143Z"
    },
    "collapsed": true
   },
   "outputs": [],
   "source": [
    "# Moyennes\n",
    "dataframeErreur.mean()"
   ]
  },
  {
   "cell_type": "markdown",
   "metadata": {
    "collapsed": true
   },
   "source": [
    "### Conclusion sur l'apprentissage\n",
    "**Q** Quel méthode retenir? Est-ce cohérent avec les résultats e R?"
   ]
  },
  {
   "cell_type": "markdown",
   "metadata": {},
   "source": [
    "Cet exemple, traité en R puis en Python, résume bien l'intérêt et le contexte des méthodes d'apprentissage.\n",
    "* Par rapport à la *base line* : prévision MOCAGE présentant un taux moyen d'erreur de 30%, un modèle statistique élémentaire améliore très sensiblement le résultat.\n",
    "* Une méthode plus sophistiquée, ici *SVM* ou *random forest* apporte une amélioration statistiquement significative mais assez faible au prix de l'interprétation fine des résultats fournie par une régression logistique.\n",
    "* Python, outil d'*apprentissage machine*, est plus efficace que R pour les  simulations.\n",
    "* En revanche, R, outil d'*apprentissage statistique*, permet la sélection et l'interprétation des variables et de leurs **interactions** pour un modèle de régression linéaire ou logistique classique. La prise en compte d'interactions (modèle quadratique) améliore sensiblement la qualité des prévisions.\n",
    "* Les forêts aléatoires et les SVM font mieux sur cet exemple, c'est souvent le cas comme avec le *boosting*, mais d'autres exemples mettent en avant d'autres méthodes: neurones pour une modélisation physique, SVM pour du criblage virtuelle de molécules, régression PLS pour la spectrométrie en proche infra-rouge (NIR)... pas de règle générale.\n",
    "* Jupyter est un support pédagogique efficace pour des analyses sans développement volumineux de code.\n",
    "* Avant d'éventuellement passer à [Julia](http://julialang.org/), R et Python sont à l'usage très complémentaires.\n"
   ]
  },
  {
   "cell_type": "markdown",
   "metadata": {},
   "source": [
    "# <FONT COLOR=\"Red\">Épisode 5</font>\n",
    "**Remarque** Il est possible d'exécuter directement l'*épisode 5* sans passer par toutes les étapes de classification supervisée. Il suffit d'exécuter jusqu'à la *section 4.1* de l'*épidode 1*, phase exploratoire et préparation des échantillons, afin de construire les données utilisées dans les sections 12 et 13 d'imputation des données manquantes et de détection d'atypiques."
   ]
  },
  {
   "cell_type": "markdown",
   "metadata": {},
   "source": [
    "## [Gestion des données manquantes](http://wikistat.fr/pdf/st-m-app-idm.pdf)\n",
    "Les vraies données sont le plus souvent mitées par l'absence de données, conséquences d'erreurs de saisie, de pannes de capteurs... Les librairies de Python (`pandas`) offrent des choix rudimentaires pour faire des imputations de données manquantes quand celles-ci le sont de façon complètement aléatoire. \n",
    "\n",
    "Le [calepin R](https://github.com/wikistat/Apprentissage/blob/master/Pic-ozone/Apprent-R-Ozone.ipynb) d'analyse de ces mêmes données propose une comparaison assez détaillée de deux stratégiées afin d'évaluer leurs performances respectives. \n",
    "\n",
    "La **première stratégie** commence par imputer les données manquantes en les prévoyant par l'algorithme `missForest`. Une fois les données manquantes imputées, différentes méthodes de prévision sont utilisables comme précédemment. Deux sont exécutées: forêts aléatoires et *extrem gradient boosting*.\n",
    "\n",
    "La **deuxième stratégie** évite l'étape d'imputation en exécutant directement un algorithme de prévision tolérant des données manquantes. Peu le fond, c'est le cas de `XGBoost`.\n",
    "\n",
    "Sur ces données, mais sans gros effort d'optimisation de `XGBoost`, la première stratégie enchaînant `missForest` puis `randomForest` conduit à de meilleurs résultats. Seule celle-ci est employée dans ce calepin mais, bien évidemment, l'exécution de `xgboost` sans imputation préalable est une option également possible en Python.\n",
    "\n",
    "Bien moins de méthodes sont proposées en Python, `SCikit-learn` ne proposant que des imputations basiques par la moyenne ou la médiane comme dans `pandas`. Néanmoins une imputation par prévision utilisant *k*-n, l'ACP ou des forêts aléatoires est disponible dans la librairie `predictive_imputer`.\n",
    "\n",
    "Les commandes ci-dessous font appel aux fichiers suivants:\n",
    "- `X` données complètes initiales \n",
    "- `Xna` les données avec des trous, \n",
    "- `XnaImp` les données avec imputations \n",
    "\n",
    "\n",
    "### Préparation des trous dans `ozone`\n",
    "Les données initiales de la base `ozone` sont reprises. Seule la variable à expliquer de dépassement de seuil est conservée. La première opération consiste à générer aléatoirement un certain taux de données manquantes par la fonction définie ci-dessous."
   ]
  },
  {
   "cell_type": "code",
   "execution_count": null,
   "metadata": {
    "ExecuteTime": {
     "end_time": "2019-07-03T14:54:34.117257Z",
     "start_time": "2019-07-03T14:54:34.110315Z"
    },
    "collapsed": true
   },
   "outputs": [],
   "source": [
    "import numpy as np\n",
    "import numpy.ma as ma\n",
    "import random\n",
    "\n",
    "def input_nan(x, tx):\n",
    "    \"\"\"\n",
    "    x : a 2D matrix of float dtype\n",
    "    tx: the rate of nan value to put in the matrix\n",
    "    \"\"\"\n",
    "    n_total = x.shape[0] * x.shape[1]\n",
    "    mask = np.array([random.random() for _ in range(n_total)]).reshape(x.shape)<tx\n",
    "    mx = ma.masked_array(x, mask=mask, fill_value=np.nan)\n",
    "    return mx.filled()"
   ]
  },
  {
   "cell_type": "code",
   "execution_count": null,
   "metadata": {
    "ExecuteTime": {
     "end_time": "2019-07-03T14:54:35.714762Z",
     "start_time": "2019-07-03T14:54:35.707142Z"
    }
   },
   "outputs": [],
   "source": [
    "# données initiales avec \n",
    "X=dfC \n",
    "# Génération de 10% de valeurs manquantes\n",
    "Xna=input_nan(X, .5)\n",
    "Xna"
   ]
  },
  {
   "cell_type": "markdown",
   "metadata": {},
   "source": [
    "### Imputation par `missForest`\n",
    "Le même algorithme que celui présent dans la librairie de R `MissForest` est implémenté dans la librairie `Scikit-learn`. "
   ]
  },
  {
   "cell_type": "code",
   "execution_count": null,
   "metadata": {
    "ExecuteTime": {
     "end_time": "2019-07-03T15:08:53.554941Z",
     "start_time": "2019-07-03T15:08:36.630248Z"
    }
   },
   "outputs": [],
   "source": [
    "from predictive_imputer import predictive_imputer\n",
    "# Choix du mode de prévision par *k*-pp, ACP ou forêt aléatoire\n",
    "imputer = predictive_imputer.PredictiveImputer(f_model=\"RandomForest\")\n",
    "# Imputation\n",
    "XnaImp = imputer.fit(Xna).transform(Xna.copy())"
   ]
  },
  {
   "cell_type": "markdown",
   "metadata": {},
   "source": [
    "### Séparation des échantillons\n",
    "Des cas sont consiédérés: les données sans données manquantes et les données après imputation des données manquantes. Les mêmes échantillons sont considérés en utilisant la même initialisation du générateur."
   ]
  },
  {
   "cell_type": "code",
   "execution_count": null,
   "metadata": {
    "ExecuteTime": {
     "end_time": "2019-07-03T15:08:59.148966Z",
     "start_time": "2019-07-03T15:08:59.139158Z"
    },
    "collapsed": true
   },
   "outputs": [],
   "source": [
    "# Données sans trous\n",
    "X_train,X_test,Yb_train,Yb_test=train_test_split(X,Yb,test_size=200,random_state=11)\n",
    "XnaImp_train,XnaImp_test,Yb_train,Yr_test=train_test_split(XnaImp,Yb,test_size=200,random_state=11)"
   ]
  },
  {
   "cell_type": "markdown",
   "metadata": {},
   "source": [
    "### Prévision par forêt aléatoire\n",
    "Prévision du dépassement d'ozone sans données manquantes et avec données manquantes imputées. Comparaison des erreurs de prévision sur l'échantillon test. Les valeurs par défaut des paramètres sont conservées. "
   ]
  },
  {
   "cell_type": "code",
   "execution_count": null,
   "metadata": {
    "ExecuteTime": {
     "end_time": "2019-07-03T15:09:03.941566Z",
     "start_time": "2019-07-03T15:09:03.362895Z"
    }
   },
   "outputs": [],
   "source": [
    "from sklearn.ensemble import RandomForestClassifier \n",
    "# prévision sans trous\n",
    "forest = RandomForestClassifier(n_estimators=500)\n",
    "# apprentissage\n",
    "rfFit = forest.fit(X_train,Yb_train)\n",
    "# erreur de prévision\n",
    "# erreur de prévision sur le test\n",
    "1-rfFit.score(X_test,Yb_test)"
   ]
  },
  {
   "cell_type": "code",
   "execution_count": null,
   "metadata": {
    "ExecuteTime": {
     "end_time": "2019-07-03T15:09:05.304552Z",
     "start_time": "2019-07-03T15:09:04.733321Z"
    }
   },
   "outputs": [],
   "source": [
    "# prévision avec trous imputés\n",
    "forest = RandomForestClassifier(n_estimators=500)\n",
    "# apprentissage\n",
    "rfFit = forest.fit(XnaImp_train,Yb_train)\n",
    "# erreur de prévision\n",
    "# erreur de prévision sur le test\n",
    "1-rfFit.score(XnaImp_test,Yb_test)"
   ]
  },
  {
   "cell_type": "markdown",
   "metadata": {},
   "source": [
    "**Q** Que dire de la qualité de prévision avec 10% de trous\n",
    "\n",
    "**Exercice** Faire varier le taux de trous et étudier la dégradation de la prévision.\n",
    "\n",
    "**Exercice** Comparer avec une approche directe de la prévision avec `XGBoost` sans imputation préalable."
   ]
  },
  {
   "cell_type": "markdown",
   "metadata": {},
   "source": [
    "# <FONT COLOR=\"Red\">Épisode 5 bis</font>\n",
    "**Remarque** Il est possible d'exécuter directement l'*épisode 5* sans passer par toutes les étapes de classification supervisée. Il suffit d'exécuter jusqu'à la *section 4.1* de l'*épidode 1*, phase exploratoire et préparation des échantillons, afin de construire les données utilisées dans les sections 6 et 7 d'imputation des données manquantes et de détection d'atypiques.\n",
    "## Détection d'observations atypiques\n",
    "\n",
    "Le [calepin R](https://github.com/wikistat/Apprentissage/blob/master/Pic-ozone/Apprent-R-Ozone.ipynb) d'analyse de ces mêmes données propose une comparaison assez détaillée des scores de détection des anomalies. Comme dans R, `Scikit-learn` propose des fonctions en Pyhton de détection d'atypiques multidimensionnels. Les principales sont *LOF* et *Isolation Forest* dont les résultats sont comparés ci-dessous.\n",
    "\n",
    "\n",
    "### *Local Outlier Factor*\n",
    "Les données sont restreintes aux seules variables quantitatives explicatives.\n",
    "\n",
    "**Q** Quel est le rôle du paramètre *k* ci-dessous?"
   ]
  },
  {
   "cell_type": "code",
   "execution_count": null,
   "metadata": {
    "ExecuteTime": {
     "end_time": "2019-07-03T15:09:09.064105Z",
     "start_time": "2019-07-03T15:09:09.039201Z"
    }
   },
   "outputs": [],
   "source": [
    "ozone.head()"
   ]
  },
  {
   "cell_type": "code",
   "execution_count": null,
   "metadata": {
    "ExecuteTime": {
     "end_time": "2019-07-03T15:09:10.225913Z",
     "start_time": "2019-07-03T15:09:10.210390Z"
    }
   },
   "outputs": [],
   "source": [
    "ozoneR=ozone[[\"MOCAGE\",\"TEMPE\",\"VentMOD\",\"VentANG\",\"SRMH2O\",\"LNO2\",\"LNO\"]]\n",
    "ozoneR.head()"
   ]
  },
  {
   "cell_type": "code",
   "execution_count": null,
   "metadata": {
    "ExecuteTime": {
     "end_time": "2019-07-03T15:09:11.500912Z",
     "start_time": "2019-07-03T15:09:11.349314Z"
    }
   },
   "outputs": [],
   "source": [
    "from sklearn.neighbors import LocalOutlierFactor\n",
    "clf = LocalOutlierFactor(n_neighbors=10, contamination=0.05) # choix de n_n par défaut\n",
    "scoreLOF=clf.fit_predict(ozoneR)\n",
    "scoreAtyp=-clf._decision_function(ozoneR)# opposé du LOF\n",
    "plt.boxplot(scoreAtyp)\n",
    "plt.show()"
   ]
  },
  {
   "cell_type": "markdown",
   "metadata": {},
   "source": [
    "**Q** Comment se comporte le *LOF* en fonction de *k*?\n",
    "\n",
    "**Q** Quel taux d'observations par défaut sont considérées comme atypiques?"
   ]
  },
  {
   "cell_type": "code",
   "execution_count": null,
   "metadata": {
    "ExecuteTime": {
     "end_time": "2019-07-03T15:09:13.463557Z",
     "start_time": "2019-07-03T15:09:13.446299Z"
    },
    "collapsed": true
   },
   "outputs": [],
   "source": [
    "atypLofInd = clf.fit_predict(X)"
   ]
  },
  {
   "cell_type": "markdown",
   "metadata": {},
   "source": [
    "L'analyse en composante principale est utilisée pour représenter les observations atypiques."
   ]
  },
  {
   "cell_type": "code",
   "execution_count": null,
   "metadata": {
    "ExecuteTime": {
     "end_time": "2019-07-03T15:09:17.797466Z",
     "start_time": "2019-07-03T15:09:15.737146Z"
    }
   },
   "outputs": [],
   "source": [
    "## Repésentation des atypiques\n",
    "plt.figure(figsize=(5,5))\n",
    "for i, j, nom in zip(C[:,0], C[:,1], atypLofInd):\n",
    "    color = \"red\" if nom!=1  else \"blue\"\n",
    "    plt.plot(i, j, \"o\",color=color)\n",
    "plt.axis((-4,6,-4,6))  \n",
    "plt.show()"
   ]
  },
  {
   "cell_type": "markdown",
   "metadata": {},
   "source": []
  },
  {
   "cell_type": "markdown",
   "metadata": {},
   "source": [
    "### *OCC SVM*\n",
    "**Q** Quels sont les paramètres de cette fonction."
   ]
  },
  {
   "cell_type": "code",
   "execution_count": null,
   "metadata": {
    "ExecuteTime": {
     "end_time": "2019-07-03T15:09:20.975581Z",
     "start_time": "2019-07-03T15:09:20.760546Z"
    }
   },
   "outputs": [],
   "source": [
    "from sklearn.svm import OneClassSVM\n",
    "clf=OneClassSVM(nu=0.1, gamma=0.01)\n",
    "scoreSVM=clf.fit(ozoneR)\n",
    "scoreAtypSVM=clf._decision_function(ozoneR)\n",
    "plt.boxplot(scoreAtypSVM)\n",
    "plt.show()"
   ]
  },
  {
   "cell_type": "markdown",
   "metadata": {},
   "source": [
    "**Q** Quel taux d'atypiques par défaut?"
   ]
  },
  {
   "cell_type": "code",
   "execution_count": null,
   "metadata": {
    "ExecuteTime": {
     "end_time": "2019-07-03T15:09:22.970638Z",
     "start_time": "2019-07-03T15:09:22.960893Z"
    },
    "collapsed": true
   },
   "outputs": [],
   "source": [
    "atypSVMInd = clf.predict(ozoneR)"
   ]
  },
  {
   "cell_type": "code",
   "execution_count": null,
   "metadata": {
    "ExecuteTime": {
     "end_time": "2019-07-03T15:09:26.678417Z",
     "start_time": "2019-07-03T15:09:24.607060Z"
    }
   },
   "outputs": [],
   "source": [
    "## Repésentation des atypiques\n",
    "plt.figure(figsize=(5,5))\n",
    "for i, j, nom in zip(C[:,0], C[:,1], atypSVMInd):\n",
    "    color = \"red\" if nom!=1  else \"blue\"\n",
    "    plt.plot(i, j, \"o\",color=color)\n",
    "plt.axis((-4,6,-4,6))  \n",
    "plt.show()"
   ]
  },
  {
   "cell_type": "markdown",
   "metadata": {},
   "source": [
    "### *Isolation forest*\n",
    "**Q** Comment se mesure l\"atypicité\" d'une observation dans le cas d'*isolation forest*?"
   ]
  },
  {
   "cell_type": "code",
   "execution_count": null,
   "metadata": {
    "ExecuteTime": {
     "end_time": "2019-07-03T15:10:04.393891Z",
     "start_time": "2019-07-03T15:10:04.070051Z"
    }
   },
   "outputs": [],
   "source": [
    "from sklearn.ensemble import IsolationForest\n",
    "clf = IsolationForest(max_samples=1000, contamination=0.05,behaviour=\"new\")\n",
    "scoreIF=clf.fit(ozoneR)\n",
    "scoreAtypIF=clf.decision_function(ozoneR)\n",
    "plt.boxplot(scoreAtypIF)\n",
    "plt.show()"
   ]
  },
  {
   "cell_type": "code",
   "execution_count": null,
   "metadata": {
    "ExecuteTime": {
     "end_time": "2019-07-03T15:10:09.667586Z",
     "start_time": "2019-07-03T15:10:07.527164Z"
    }
   },
   "outputs": [],
   "source": [
    "atypIFInd = clf.predict(ozoneR)\n",
    "## Repésentation des atypiques\n",
    "plt.figure(figsize=(5,5))\n",
    "for i, j, nom in zip(C[:,0], C[:,1], atypIFInd):\n",
    "    color = \"red\" if nom!=1  else \"blue\"\n",
    "    plt.plot(i, j, \"o\",color=color)\n",
    "plt.axis((-4,6,-4,6))  \n",
    "plt.show()"
   ]
  },
  {
   "cell_type": "markdown",
   "metadata": {
    "collapsed": true
   },
   "source": [
    "**Q** Les observations définies comme des anomalies se retrouve-t-elles généralement d'une approche à l'autre?\n",
    "\n",
    "**Remarques**\n",
    "\n",
    "- la littérature sur la détection d'anomalies ou de nouveautés multidimensionnelles est vaste et fort peu consensuelle. Ceci est encore renforcé par le fait qu'il est difficile de définir un critère efficace de mesure de la qualité d'une détection. Voir à ce sujet l'[article](http://www.dbs.ifi.lmu.de/research/outlier-evaluation/) de Campos et al. (2016).  Il importe donc, en fonctin du cas et des données traitées, de pouvoir disposer d'une \"vérité terrain\": quelle méthode est le pllus susceptible de retrouver des anomalies identifiées en tant que telle?\n",
    "- Conrairement à la librairie originale `randomForest` de R, il ne semble pas exister de librairie proposant la détection d'anomalies relativemement à la construction d'un modèle de prévision *y=f(X)* par forêt aléatoire. Il importe de suivre l'évolution des librairies en cours de développement."
   ]
  },
  {
   "cell_type": "code",
   "execution_count": null,
   "metadata": {
    "collapsed": true
   },
   "outputs": [],
   "source": []
  },
  {
   "cell_type": "code",
   "execution_count": null,
   "metadata": {
    "collapsed": true
   },
   "outputs": [],
   "source": []
  }
 ],
 "metadata": {
  "kernelspec": {
   "display_name": "Python [default]",
   "language": "python",
   "name": "python3"
  },
  "language_info": {
   "codemirror_mode": {
    "name": "ipython",
    "version": 3
   },
   "file_extension": ".py",
   "mimetype": "text/x-python",
   "name": "python",
   "nbconvert_exporter": "python",
   "pygments_lexer": "ipython3",
   "version": "3.6.2"
  },
  "latex_envs": {
   "LaTeX_envs_menu_present": true,
   "autoclose": false,
   "autocomplete": true,
   "bibliofile": "biblio.bib",
   "cite_by": "apalike",
   "current_citInitial": 1,
   "eqLabelWithNumbers": true,
   "eqNumInitial": 1,
   "hotkeys": {
    "equation": "Ctrl-E",
    "itemize": "Ctrl-I"
   },
   "labels_anchors": false,
   "latex_user_defs": false,
   "report_style_numbering": false,
   "user_envs_cfg": false
  },
  "toc": {
   "nav_menu": {},
   "number_sections": true,
   "sideBar": true,
   "skip_h1_title": true,
   "toc_cell": false,
   "toc_position": {
    "height": "333.133px",
    "left": "528px",
    "top": "179.283px",
    "width": "231.05px"
   },
   "toc_section_display": true,
   "toc_window_display": true
  }
 },
 "nbformat": 4,
 "nbformat_minor": 1
}
